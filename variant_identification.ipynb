{
 "cells": [
  {
   "cell_type": "code",
   "execution_count": null,
   "metadata": {},
   "outputs": [],
   "source": [
    "from pathlib import Path\n",
    "import pandas as pd\n",
    "import numpy as np\n",
    "import gzip\n",
    "import sys\n",
    "import os\n",
    "import zarr\n",
    "import vcf\n",
    "import allel\n",
    "from scipy.stats import chi2_contingency"
   ]
  },
  {
   "cell_type": "code",
   "execution_count": null,
   "metadata": {},
   "outputs": [],
   "source": [
    "# Set up data folder\n",
    "DATA = Path('/content/drive/My Drive/data')"
   ]
  },
  {
   "cell_type": "markdown",
   "metadata": {
    "colab_type": "text",
    "id": "BKDMH4ZiS0PP"
   },
   "source": [
    "## Sub-population specific variants\n",
    "\n",
    "The first 100,000 variants from chromosome 11 in 1000 Genomes Project."
   ]
  },
  {
   "cell_type": "code",
   "execution_count": 0,
   "metadata": {
    "colab": {
     "base_uri": "https://localhost:8080/",
     "height": 306
    },
    "colab_type": "code",
    "executionInfo": {
     "elapsed": 599,
     "status": "ok",
     "timestamp": 1570418709681,
     "user": {
      "displayName": "Margaret Y. Paiva",
      "photoUrl": "",
      "userId": "06544974911748493519"
     },
     "user_tz": 240
    },
    "id": "Eumd8H_9U582",
    "outputId": "14fb960d-a001-41a0-86b8-e6b6c98bb292"
   },
   "outputs": [
    {
     "data": {
      "text/html": [
       "<div>\n",
       "<style scoped>\n",
       "    .dataframe tbody tr th:only-of-type {\n",
       "        vertical-align: middle;\n",
       "    }\n",
       "\n",
       "    .dataframe tbody tr th {\n",
       "        vertical-align: top;\n",
       "    }\n",
       "\n",
       "    .dataframe thead th {\n",
       "        text-align: right;\n",
       "    }\n",
       "</style>\n",
       "<table border=\"1\" class=\"dataframe\">\n",
       "  <thead>\n",
       "    <tr style=\"text-align: right;\">\n",
       "      <th></th>\n",
       "      <th>Sample name</th>\n",
       "      <th>Sex</th>\n",
       "      <th>Biosample ID</th>\n",
       "      <th>Population code</th>\n",
       "      <th>Population name</th>\n",
       "      <th>Superpopulation code</th>\n",
       "      <th>Superpopulation name</th>\n",
       "      <th>Data collections</th>\n",
       "    </tr>\n",
       "  </thead>\n",
       "  <tbody>\n",
       "    <tr>\n",
       "      <th>0</th>\n",
       "      <td>HG00099</td>\n",
       "      <td>female</td>\n",
       "      <td>SAME123271</td>\n",
       "      <td>GBR</td>\n",
       "      <td>British</td>\n",
       "      <td>EUR</td>\n",
       "      <td>European</td>\n",
       "      <td>1000 Genomes on GRCh38,1000 Genomes phase 3 re...</td>\n",
       "    </tr>\n",
       "    <tr>\n",
       "      <th>1</th>\n",
       "      <td>HG00096</td>\n",
       "      <td>male</td>\n",
       "      <td>SAME123268</td>\n",
       "      <td>GBR</td>\n",
       "      <td>British</td>\n",
       "      <td>EUR</td>\n",
       "      <td>European</td>\n",
       "      <td>1000 Genomes on GRCh38,1000 Genomes phase 3 re...</td>\n",
       "    </tr>\n",
       "    <tr>\n",
       "      <th>2</th>\n",
       "      <td>HG00102</td>\n",
       "      <td>female</td>\n",
       "      <td>SAME123945</td>\n",
       "      <td>GBR</td>\n",
       "      <td>British</td>\n",
       "      <td>EUR</td>\n",
       "      <td>European</td>\n",
       "      <td>1000 Genomes on GRCh38,1000 Genomes phase 3 re...</td>\n",
       "    </tr>\n",
       "    <tr>\n",
       "      <th>3</th>\n",
       "      <td>HG00143</td>\n",
       "      <td>male</td>\n",
       "      <td>SAME124393</td>\n",
       "      <td>GBR</td>\n",
       "      <td>British</td>\n",
       "      <td>EUR</td>\n",
       "      <td>European</td>\n",
       "      <td>1000 Genomes on GRCh38,1000 Genomes phase 3 re...</td>\n",
       "    </tr>\n",
       "    <tr>\n",
       "      <th>4</th>\n",
       "      <td>HG00107</td>\n",
       "      <td>male</td>\n",
       "      <td>SAME123947</td>\n",
       "      <td>GBR</td>\n",
       "      <td>British</td>\n",
       "      <td>EUR</td>\n",
       "      <td>European</td>\n",
       "      <td>1000 Genomes on GRCh38,1000 Genomes phase 3 re...</td>\n",
       "    </tr>\n",
       "  </tbody>\n",
       "</table>\n",
       "</div>"
      ],
      "text/plain": [
       "  Sample name  ...                                   Data collections\n",
       "0     HG00099  ...  1000 Genomes on GRCh38,1000 Genomes phase 3 re...\n",
       "1     HG00096  ...  1000 Genomes on GRCh38,1000 Genomes phase 3 re...\n",
       "2     HG00102  ...  1000 Genomes on GRCh38,1000 Genomes phase 3 re...\n",
       "3     HG00143  ...  1000 Genomes on GRCh38,1000 Genomes phase 3 re...\n",
       "4     HG00107  ...  1000 Genomes on GRCh38,1000 Genomes phase 3 re...\n",
       "\n",
       "[5 rows x 8 columns]"
      ]
     },
     "execution_count": 67,
     "metadata": {
      "tags": []
     },
     "output_type": "execute_result"
    }
   ],
   "source": [
    "csv_filename = DATA /'1kgn_phase3_population.csv'\n",
    "csv = pd.read_csv(csv_filename)\n",
    "csv.head()"
   ]
  },
  {
   "cell_type": "code",
   "execution_count": 0,
   "metadata": {
    "colab": {
     "base_uri": "https://localhost:8080/",
     "height": 51
    },
    "colab_type": "code",
    "executionInfo": {
     "elapsed": 455,
     "status": "ok",
     "timestamp": 1570418715150,
     "user": {
      "displayName": "Margaret Y. Paiva",
      "photoUrl": "",
      "userId": "06544974911748493519"
     },
     "user_tz": 240
    },
    "id": "pIk6vm_OkQrE",
    "outputId": "8e5f2d5d-9d92-4bdb-ca56-4f1e95df5bd6"
   },
   "outputs": [
    {
     "name": "stdout",
     "output_type": "stream",
     "text": [
      "There are 5 superpopulations.\n"
     ]
    },
    {
     "data": {
      "text/plain": [
       "array(['EUR', 'EAS', 'AMR', 'SAS', 'AFR'], dtype=object)"
      ]
     },
     "execution_count": 68,
     "metadata": {
      "tags": []
     },
     "output_type": "execute_result"
    }
   ],
   "source": [
    "sp = csv['Superpopulation code'].unique()\n",
    "print(f\"There are {len(sp)} superpopulations.\")\n",
    "sp"
   ]
  },
  {
   "cell_type": "code",
   "execution_count": 0,
   "metadata": {
    "colab": {
     "base_uri": "https://localhost:8080/",
     "height": 51
    },
    "colab_type": "code",
    "executionInfo": {
     "elapsed": 348,
     "status": "ok",
     "timestamp": 1570418788623,
     "user": {
      "displayName": "Margaret Y. Paiva",
      "photoUrl": "",
      "userId": "06544974911748493519"
     },
     "user_tz": 240
    },
    "id": "J-ZB2rRTv8rI",
    "outputId": "e026bdf6-027a-4451-b891-9a3dbabb9c98"
   },
   "outputs": [
    {
     "data": {
      "text/plain": [
       "array(['European', 'East Asian', 'American', 'South Asian', 'African'],\n",
       "      dtype=object)"
      ]
     },
     "execution_count": 71,
     "metadata": {
      "tags": []
     },
     "output_type": "execute_result"
    }
   ],
   "source": [
    "csv['Superpopulation name'].unique()"
   ]
  },
  {
   "cell_type": "code",
   "execution_count": 0,
   "metadata": {
    "colab": {
     "base_uri": "https://localhost:8080/",
     "height": 102
    },
    "colab_type": "code",
    "executionInfo": {
     "elapsed": 502,
     "status": "ok",
     "timestamp": 1570418732084,
     "user": {
      "displayName": "Margaret Y. Paiva",
      "photoUrl": "",
      "userId": "06544974911748493519"
     },
     "user_tz": 240
    },
    "id": "zyx1Do93Prji",
    "outputId": "72a30d7f-06d0-46d6-937f-7199e27c1232"
   },
   "outputs": [
    {
     "name": "stdout",
     "output_type": "stream",
     "text": [
      "European : 503\n",
      "East Asian : 504\n",
      "American : 347\n",
      "South Asian : 489\n",
      "African : 661\n"
     ]
    }
   ],
   "source": [
    "sp_num = []\n",
    "sp_name = []\n",
    "for p in sp:\n",
    "  csv_sp = csv[csv['Superpopulation code'] == p]\n",
    "  sp_num.append(len(csv_sp))\n",
    "  sp_name.append(csv_sp['Superpopulation name'].iloc[0])\n",
    "  print(sp_name[-1], ':', sp_num[-1])"
   ]
  },
  {
   "cell_type": "code",
   "execution_count": 0,
   "metadata": {
    "colab": {},
    "colab_type": "code",
    "id": "MlNSxH5yQCsr"
   },
   "outputs": [],
   "source": [
    "# !gzip -cd /content/drive/My\\ Drive/data/ALL.chr11.phase3_shapeit2_mvncall_integrated_v5a.20130502.genotypes.first100k.vcf.gz | head -n 300"
   ]
  },
  {
   "cell_type": "code",
   "execution_count": 2,
   "metadata": {
    "colab": {
     "base_uri": "https://localhost:8080/",
     "height": 632
    },
    "colab_type": "code",
    "executionInfo": {
     "elapsed": 2638,
     "status": "ok",
     "timestamp": 1570454295965,
     "user": {
      "displayName": "Margaret Y. Paiva",
      "photoUrl": "",
      "userId": "06544974911748493519"
     },
     "user_tz": 240
    },
    "id": "jbHw6It1VC3c",
    "outputId": "1a9ac405-2b39-4d4d-adb5-44dde059eb78",
    "scrolled": true
   },
   "outputs": [],
   "source": [
    "vcf_file= DATA/\"ALL.chr11.phase3_shapeit2_mvncall_integrated_v5a.20130502.genotypes.first100k.vcf.gz\"\n",
    "\n",
    "# Show all available fields in one row of VCF\n",
    "vcf_handle = vcf.Reader(open(vcf_file, \"rb\"))\n",
    "rec = vcf_handle.__next__()\n",
    "\n",
    "for key in dir(rec):\n",
    "    if not key.startswith(\"__\"):\n",
    "        if not callable(getattr(rec, key)):\n",
    "            print(\"{}: {}\".format(key, getattr(rec, key)))          \n"
   ]
  },
  {
   "cell_type": "code",
   "execution_count": 0,
   "metadata": {
    "colab": {
     "base_uri": "https://localhost:8080/",
     "height": 68
    },
    "colab_type": "code",
    "executionInfo": {
     "elapsed": 7173,
     "status": "ok",
     "timestamp": 1570454307728,
     "user": {
      "displayName": "Margaret Y. Paiva",
      "photoUrl": "",
      "userId": "06544974911748493519"
     },
     "user_tz": 240
    },
    "id": "jzTXApClkBWF",
    "outputId": "cfa725e9-9bb6-4272-ac49-d322f85f4a03"
   },
   "outputs": [
    {
     "name": "stdout",
     "output_type": "stream",
     "text": [
      "[read_vcf] 65536 rows in 4.40s; chunk in 4.40s (14887 rows/s); 11\u0000:1963136\n",
      "[read_vcf] 100000 rows in 6.70s; chunk in 2.29s (15020 rows/s)\n",
      "[read_vcf] all done (14930 rows/s)\n"
     ]
    }
   ],
   "source": [
    "vcf = allel.read_vcf(str(vcf_file), [\"variants/ID\", \"variants/numalt\"],\n",
    "                     log=sys.stdout)"
   ]
  },
  {
   "cell_type": "code",
   "execution_count": 0,
   "metadata": {
    "colab": {},
    "colab_type": "code",
    "id": "U2WI135mfLpX"
   },
   "outputs": [],
   "source": [
    "numalt = vcf['variants/numalt']\n",
    "max_alt = np.max(numalt)"
   ]
  },
  {
   "cell_type": "code",
   "execution_count": 0,
   "metadata": {
    "colab": {
     "base_uri": "https://localhost:8080/",
     "height": 68
    },
    "colab_type": "code",
    "executionInfo": {
     "elapsed": 25001,
     "status": "ok",
     "timestamp": 1570454342985,
     "user": {
      "displayName": "Margaret Y. Paiva",
      "photoUrl": "",
      "userId": "06544974911748493519"
     },
     "user_tz": 240
    },
    "id": "6cG3FNc4fAIq",
    "outputId": "9b36e4e2-c427-4aee-968d-4b30297df681"
   },
   "outputs": [
    {
     "name": "stdout",
     "output_type": "stream",
     "text": [
      "[vcf_to_zarr] 65536 rows in 15.16s; chunk in 15.16s (4321 rows/s); 11\u0000:1963136\n",
      "[vcf_to_zarr] 100000 rows in 23.80s; chunk in 8.64s (3990 rows/s)\n",
      "[vcf_to_zarr] all done (4138 rows/s)\n"
     ]
    }
   ],
   "source": [
    "# clear the variable if it already exists to be gentle on memory\n",
    "if \"vcf\" in dir():\n",
    "    del vcf\n",
    "\n",
    "zarr_file = vcf_file.name.replace(\".vcf.gz\", \".zarr\")\n",
    "if not os.path.exists(zarr_file):\n",
    "    allel.vcf_to_zarr(str(vcf_file),\n",
    "                      str(zarr_file),\n",
    "                      group='11', fields='*', alt_number=max_alt,\n",
    "                      log=sys.stdout, overwrite=True)"
   ]
  },
  {
   "cell_type": "code",
   "execution_count": 0,
   "metadata": {
    "colab": {
     "base_uri": "https://localhost:8080/",
     "height": 85
    },
    "colab_type": "code",
    "executionInfo": {
     "elapsed": 2350,
     "status": "ok",
     "timestamp": 1570454347866,
     "user": {
      "displayName": "Margaret Y. Paiva",
      "photoUrl": "",
      "userId": "06544974911748493519"
     },
     "user_tz": 240
    },
    "id": "9J6RUH2aFeA7",
    "outputId": "1a0fc435-c953-4cab-b806-3d5ad8238a80"
   },
   "outputs": [
    {
     "name": "stdout",
     "output_type": "stream",
     "text": [
      "adc.json\n",
      "ALL.chr11.phase3_shapeit2_mvncall_integrated_v5a.20130502.genotypes.first100k.zarr\n",
      "drive\n",
      "sample_data\n"
     ]
    }
   ],
   "source": [
    "!ls"
   ]
  },
  {
   "cell_type": "code",
   "execution_count": 0,
   "metadata": {
    "colab": {
     "base_uri": "https://localhost:8080/",
     "height": 790
    },
    "colab_type": "code",
    "executionInfo": {
     "elapsed": 504,
     "status": "ok",
     "timestamp": 1570454350096,
     "user": {
      "displayName": "Margaret Y. Paiva",
      "photoUrl": "",
      "userId": "06544974911748493519"
     },
     "user_tz": 240
    },
    "id": "O9SPsdGjkTd7",
    "outputId": "2c823ba8-14ac-4fc7-c11e-f476936df0d1"
   },
   "outputs": [
    {
     "data": {
      "text/html": [
       "<link rel=\"stylesheet\" href=\"//cdnjs.cloudflare.com/ajax/libs/jstree/3.3.3/themes/default/style.min.css\"/><div id=\"5a608a8e-7ad8-42a1-a816-bd46f125c127\" class=\"zarr-tree\"><ul><li data-jstree='{\"type\": \"Group\"}' class='jstree-open'><span>/</span><ul><li data-jstree='{\"type\": \"Group\"}' class=''><span>11</span><ul><li data-jstree='{\"type\": \"Group\"}' class=''><span>calldata</span><ul><li data-jstree='{\"type\": \"Array\"}' class=''><span>GT (100000, 2504, 2) int8</span></li></ul></li><li data-jstree='{\"type\": \"Array\"}' class=''><span>samples (2504,) object</span></li><li data-jstree='{\"type\": \"Group\"}' class=''><span>variants</span><ul><li data-jstree='{\"type\": \"Array\"}' class=''><span>AA (100000,) object</span></li><li data-jstree='{\"type\": \"Array\"}' class=''><span>AC (100000, 5) int32</span></li><li data-jstree='{\"type\": \"Array\"}' class=''><span>AF (100000, 5) float32</span></li><li data-jstree='{\"type\": \"Array\"}' class=''><span>AFR_AF (100000, 5) float32</span></li><li data-jstree='{\"type\": \"Array\"}' class=''><span>ALT (100000, 5) object</span></li><li data-jstree='{\"type\": \"Array\"}' class=''><span>AMR_AF (100000, 5) float32</span></li><li data-jstree='{\"type\": \"Array\"}' class=''><span>AN (100000,) int32</span></li><li data-jstree='{\"type\": \"Array\"}' class=''><span>CHROM (100000,) object</span></li><li data-jstree='{\"type\": \"Array\"}' class=''><span>CIEND (100000, 2) int32</span></li><li data-jstree='{\"type\": \"Array\"}' class=''><span>CIPOS (100000, 2) int32</span></li><li data-jstree='{\"type\": \"Array\"}' class=''><span>CS (100000,) object</span></li><li data-jstree='{\"type\": \"Array\"}' class=''><span>DP (100000,) int32</span></li><li data-jstree='{\"type\": \"Array\"}' class=''><span>EAS_AF (100000, 5) float32</span></li><li data-jstree='{\"type\": \"Array\"}' class=''><span>END (100000,) int32</span></li><li data-jstree='{\"type\": \"Array\"}' class=''><span>EUR_AF (100000, 5) float32</span></li><li data-jstree='{\"type\": \"Array\"}' class=''><span>EX_TARGET (100000,) bool</span></li><li data-jstree='{\"type\": \"Array\"}' class=''><span>FILTER_PASS (100000,) bool</span></li><li data-jstree='{\"type\": \"Array\"}' class=''><span>ID (100000,) object</span></li><li data-jstree='{\"type\": \"Array\"}' class=''><span>IMPRECISE (100000,) bool</span></li><li data-jstree='{\"type\": \"Array\"}' class=''><span>MC (100000,) object</span></li><li data-jstree='{\"type\": \"Array\"}' class=''><span>MEINFO (100000, 4) object</span></li><li data-jstree='{\"type\": \"Array\"}' class=''><span>MEND (100000,) int32</span></li><li data-jstree='{\"type\": \"Array\"}' class=''><span>MLEN (100000,) int32</span></li><li data-jstree='{\"type\": \"Array\"}' class=''><span>MSTART (100000,) int32</span></li><li data-jstree='{\"type\": \"Array\"}' class=''><span>MULTI_ALLELIC (100000,) bool</span></li><li data-jstree='{\"type\": \"Array\"}' class=''><span>NS (100000,) int32</span></li><li data-jstree='{\"type\": \"Array\"}' class=''><span>POS (100000,) int32</span></li><li data-jstree='{\"type\": \"Array\"}' class=''><span>QUAL (100000,) float32</span></li><li data-jstree='{\"type\": \"Array\"}' class=''><span>REF (100000,) object</span></li><li data-jstree='{\"type\": \"Array\"}' class=''><span>SAS_AF (100000, 5) float32</span></li><li data-jstree='{\"type\": \"Array\"}' class=''><span>SVLEN (100000,) int32</span></li><li data-jstree='{\"type\": \"Array\"}' class=''><span>SVTYPE (100000,) object</span></li><li data-jstree='{\"type\": \"Array\"}' class=''><span>TSD (100000,) object</span></li><li data-jstree='{\"type\": \"Array\"}' class=''><span>VT (100000,) object</span></li><li data-jstree='{\"type\": \"Array\"}' class=''><span>altlen (100000, 5) int32</span></li><li data-jstree='{\"type\": \"Array\"}' class=''><span>is_snp (100000,) bool</span></li><li data-jstree='{\"type\": \"Array\"}' class=''><span>numalt (100000,) int32</span></li></ul></li></ul></li></ul></li></ul></div>\n",
       "<script>\n",
       "    if (!require.defined('jquery')) {\n",
       "        require.config({\n",
       "            paths: {\n",
       "                jquery: '//cdnjs.cloudflare.com/ajax/libs/jquery/1.12.1/jquery.min'\n",
       "            },\n",
       "        });\n",
       "    }\n",
       "    if (!require.defined('jstree')) {\n",
       "        require.config({\n",
       "            paths: {\n",
       "                jstree: '//cdnjs.cloudflare.com/ajax/libs/jstree/3.3.3/jstree.min'\n",
       "            },\n",
       "        });\n",
       "    }\n",
       "    require(['jstree'], function() {\n",
       "        $('#5a608a8e-7ad8-42a1-a816-bd46f125c127').jstree({\n",
       "            types: {\n",
       "                Group: {\n",
       "                    icon: \"fa fa-folder\"\n",
       "                },\n",
       "                Array: {\n",
       "                    icon: \"fa fa-table\"\n",
       "                }\n",
       "            },\n",
       "            plugins: [\"types\"]\n",
       "        });\n",
       "    });\n",
       "</script>\n"
      ],
      "text/plain": [
       "/\n",
       " └── 11\n",
       "     ├── calldata\n",
       "     │   └── GT (100000, 2504, 2) int8\n",
       "     ├── samples (2504,) object\n",
       "     └── variants\n",
       "         ├── AA (100000,) object\n",
       "         ├── AC (100000, 5) int32\n",
       "         ├── AF (100000, 5) float32\n",
       "         ├── AFR_AF (100000, 5) float32\n",
       "         ├── ALT (100000, 5) object\n",
       "         ├── AMR_AF (100000, 5) float32\n",
       "         ├── AN (100000,) int32\n",
       "         ├── CHROM (100000,) object\n",
       "         ├── CIEND (100000, 2) int32\n",
       "         ├── CIPOS (100000, 2) int32\n",
       "         ├── CS (100000,) object\n",
       "         ├── DP (100000,) int32\n",
       "         ├── EAS_AF (100000, 5) float32\n",
       "         ├── END (100000,) int32\n",
       "         ├── EUR_AF (100000, 5) float32\n",
       "         ├── EX_TARGET (100000,) bool\n",
       "         ├── FILTER_PASS (100000,) bool\n",
       "         ├── ID (100000,) object\n",
       "         ├── IMPRECISE (100000,) bool\n",
       "         ├── MC (100000,) object\n",
       "         ├── MEINFO (100000, 4) object\n",
       "         ├── MEND (100000,) int32\n",
       "         ├── MLEN (100000,) int32\n",
       "         ├── MSTART (100000,) int32\n",
       "         ├── MULTI_ALLELIC (100000,) bool\n",
       "         ├── NS (100000,) int32\n",
       "         ├── POS (100000,) int32\n",
       "         ├── QUAL (100000,) float32\n",
       "         ├── REF (100000,) object\n",
       "         ├── SAS_AF (100000, 5) float32\n",
       "         ├── SVLEN (100000,) int32\n",
       "         ├── SVTYPE (100000,) object\n",
       "         ├── TSD (100000,) object\n",
       "         ├── VT (100000,) object\n",
       "         ├── altlen (100000, 5) int32\n",
       "         ├── is_snp (100000,) bool\n",
       "         └── numalt (100000,) int32"
      ]
     },
     "execution_count": 12,
     "metadata": {
      "tags": []
     },
     "output_type": "execute_result"
    }
   ],
   "source": [
    "vcfzarr = zarr.open_group(zarr_file, mode=\"r\")\n",
    "vcfzarr.tree(expand=False)"
   ]
  },
  {
   "cell_type": "code",
   "execution_count": 0,
   "metadata": {
    "colab": {},
    "colab_type": "code",
    "id": "ZHqTq82VlIZ1"
   },
   "outputs": [],
   "source": [
    "group = vcfzarr['11/variants/EAS_AF'][:]\n",
    "# group"
   ]
  },
  {
   "cell_type": "code",
   "execution_count": 0,
   "metadata": {
    "colab": {},
    "colab_type": "code",
    "id": "HnOp6w7NhtjH"
   },
   "outputs": [],
   "source": [
    "group = pd.DataFrame(group)\n",
    "group0 = group.replace(np.NaN, 0)\n",
    "# group0.head()"
   ]
  },
  {
   "cell_type": "code",
   "execution_count": 0,
   "metadata": {
    "colab": {
     "base_uri": "https://localhost:8080/",
     "height": 119
    },
    "colab_type": "code",
    "executionInfo": {
     "elapsed": 423,
     "status": "ok",
     "timestamp": 1570418964665,
     "user": {
      "displayName": "Margaret Y. Paiva",
      "photoUrl": "",
      "userId": "06544974911748493519"
     },
     "user_tz": 240
    },
    "id": "3er4yGGpjnxB",
    "outputId": "cf48dd3c-42e3-41ea-b31e-9d0eb9d96648"
   },
   "outputs": [
    {
     "data": {
      "text/plain": [
       "0    0.9921\n",
       "1    0.0000\n",
       "2    0.0000\n",
       "3    0.0030\n",
       "4    0.0000\n",
       "dtype: float32"
      ]
     },
     "execution_count": 73,
     "metadata": {
      "tags": []
     },
     "output_type": "execute_result"
    }
   ],
   "source": [
    "group_max = group0.max(axis = 1)\n",
    "group_max.head()"
   ]
  },
  {
   "cell_type": "code",
   "execution_count": 0,
   "metadata": {
    "colab": {
     "base_uri": "https://localhost:8080/",
     "height": 119
    },
    "colab_type": "code",
    "executionInfo": {
     "elapsed": 711,
     "status": "ok",
     "timestamp": 1570418955002,
     "user": {
      "displayName": "Margaret Y. Paiva",
      "photoUrl": "",
      "userId": "06544974911748493519"
     },
     "user_tz": 240
    },
    "id": "PU7Kf3MOspnh",
    "outputId": "5d03ad20-b239-4210-9f7e-c0ea8917e3f4"
   },
   "outputs": [
    {
     "data": {
      "text/plain": [
       "0     True\n",
       "1    False\n",
       "2    False\n",
       "3    False\n",
       "4    False\n",
       "dtype: bool"
      ]
     },
     "execution_count": 72,
     "metadata": {
      "tags": []
     },
     "output_type": "execute_result"
    }
   ],
   "source": [
    "threshold = 0.5\n",
    "loc_group_select = group_max >= threshold\n",
    "loc_group_select.head()"
   ]
  },
  {
   "cell_type": "code",
   "execution_count": 0,
   "metadata": {
    "colab": {
     "base_uri": "https://localhost:8080/",
     "height": 204
    },
    "colab_type": "code",
    "executionInfo": {
     "elapsed": 1220,
     "status": "ok",
     "timestamp": 1570407244167,
     "user": {
      "displayName": "Margaret Y. Paiva",
      "photoUrl": "",
      "userId": "06544974911748493519"
     },
     "user_tz": 240
    },
    "id": "KggibaPUm1NV",
    "outputId": "e3ad36d2-25f9-4ac5-fa06-60310282895f"
   },
   "outputs": [
    {
     "data": {
      "text/html": [
       "<div class=\"allel allel-DisplayAs2D\"><span>&lt;GenotypeArray shape=(100000, 2504, 2) dtype=int8&gt;</span><table><thead><tr><th></th><th style=\"text-align: center\">0</th><th style=\"text-align: center\">1</th><th style=\"text-align: center\">2</th><th style=\"text-align: center\">3</th><th style=\"text-align: center\">4</th><th style=\"text-align: center\">...</th><th style=\"text-align: center\">2499</th><th style=\"text-align: center\">2500</th><th style=\"text-align: center\">2501</th><th style=\"text-align: center\">2502</th><th style=\"text-align: center\">2503</th></tr></thead><tbody><tr><th style=\"text-align: center; background-color: white; border-right: 1px solid black; \">0</th><td style=\"text-align: center\">1/1</td><td style=\"text-align: center\">1/1</td><td style=\"text-align: center\">1/1</td><td style=\"text-align: center\">1/1</td><td style=\"text-align: center\">1/1</td><td style=\"text-align: center\">...</td><td style=\"text-align: center\">1/1</td><td style=\"text-align: center\">1/1</td><td style=\"text-align: center\">1/1</td><td style=\"text-align: center\">1/1</td><td style=\"text-align: center\">1/1</td></tr><tr><th style=\"text-align: center; background-color: white; border-right: 1px solid black; \">1</th><td style=\"text-align: center\">0/0</td><td style=\"text-align: center\">0/0</td><td style=\"text-align: center\">0/0</td><td style=\"text-align: center\">0/0</td><td style=\"text-align: center\">0/0</td><td style=\"text-align: center\">...</td><td style=\"text-align: center\">0/0</td><td style=\"text-align: center\">0/0</td><td style=\"text-align: center\">0/0</td><td style=\"text-align: center\">0/0</td><td style=\"text-align: center\">0/0</td></tr><tr><th style=\"text-align: center; background-color: white; border-right: 1px solid black; \">2</th><td style=\"text-align: center\">0/0</td><td style=\"text-align: center\">0/0</td><td style=\"text-align: center\">0/0</td><td style=\"text-align: center\">0/0</td><td style=\"text-align: center\">0/0</td><td style=\"text-align: center\">...</td><td style=\"text-align: center\">0/0</td><td style=\"text-align: center\">0/0</td><td style=\"text-align: center\">0/0</td><td style=\"text-align: center\">0/0</td><td style=\"text-align: center\">0/0</td></tr><tr><th style=\"text-align: center; background-color: white; border-right: 1px solid black; \">...</th><td style=\"text-align: center\" colspan=\"12\">...</td></tr><tr><th style=\"text-align: center; background-color: white; border-right: 1px solid black; \">99997</th><td style=\"text-align: center\">1/1</td><td style=\"text-align: center\">1/1</td><td style=\"text-align: center\">1/1</td><td style=\"text-align: center\">1/1</td><td style=\"text-align: center\">1/1</td><td style=\"text-align: center\">...</td><td style=\"text-align: center\">1/1</td><td style=\"text-align: center\">1/1</td><td style=\"text-align: center\">1/1</td><td style=\"text-align: center\">1/1</td><td style=\"text-align: center\">1/1</td></tr><tr><th style=\"text-align: center; background-color: white; border-right: 1px solid black; \">99998</th><td style=\"text-align: center\">0/0</td><td style=\"text-align: center\">0/0</td><td style=\"text-align: center\">0/0</td><td style=\"text-align: center\">0/0</td><td style=\"text-align: center\">0/0</td><td style=\"text-align: center\">...</td><td style=\"text-align: center\">0/0</td><td style=\"text-align: center\">0/0</td><td style=\"text-align: center\">0/0</td><td style=\"text-align: center\">0/0</td><td style=\"text-align: center\">0/0</td></tr><tr><th style=\"text-align: center; background-color: white; border-right: 1px solid black; \">99999</th><td style=\"text-align: center\">1/1</td><td style=\"text-align: center\">1/1</td><td style=\"text-align: center\">0/1</td><td style=\"text-align: center\">1/0</td><td style=\"text-align: center\">1/1</td><td style=\"text-align: center\">...</td><td style=\"text-align: center\">1/1</td><td style=\"text-align: center\">1/1</td><td style=\"text-align: center\">1/1</td><td style=\"text-align: center\">1/1</td><td style=\"text-align: center\">1/1</td></tr></tbody></table></div>"
      ],
      "text/plain": [
       "<GenotypeArray shape=(100000, 2504, 2) dtype=int8>\n",
       "1/1 1/1 1/1 1/1 1/1 ... 1/1 1/1 1/1 1/1 1/1\n",
       "0/0 0/0 0/0 0/0 0/0 ... 0/0 0/0 0/0 0/0 0/0\n",
       "0/0 0/0 0/0 0/0 0/0 ... 0/0 0/0 0/0 0/0 0/0\n",
       "...\n",
       "1/1 1/1 1/1 1/1 1/1 ... 1/1 1/1 1/1 1/1 1/1\n",
       "0/0 0/0 0/0 0/0 0/0 ... 0/0 0/0 0/0 0/0 0/0\n",
       "1/1 1/1 0/1 1/0 1/1 ... 1/1 1/1 1/1 1/1 1/1"
      ]
     },
     "execution_count": 25,
     "metadata": {
      "tags": []
     },
     "output_type": "execute_result"
    }
   ],
   "source": [
    "gt = allel.GenotypeArray(vcfzarr[\"11/calldata/GT\"])\n",
    "gt"
   ]
  },
  {
   "cell_type": "code",
   "execution_count": 0,
   "metadata": {
    "colab": {
     "base_uri": "https://localhost:8080/",
     "height": 204
    },
    "colab_type": "code",
    "executionInfo": {
     "elapsed": 398,
     "status": "ok",
     "timestamp": 1570407248886,
     "user": {
      "displayName": "Margaret Y. Paiva",
      "photoUrl": "",
      "userId": "06544974911748493519"
     },
     "user_tz": 240
    },
    "id": "ufPp6D8gl-cY",
    "outputId": "1c2fc2dc-23ce-44a5-a90f-9a3331752601"
   },
   "outputs": [
    {
     "data": {
      "text/html": [
       "<div class=\"allel allel-DisplayAs2D\"><span>&lt;GenotypeArray shape=(2861, 2504, 2) dtype=int8&gt;</span><table><thead><tr><th></th><th style=\"text-align: center\">0</th><th style=\"text-align: center\">1</th><th style=\"text-align: center\">2</th><th style=\"text-align: center\">3</th><th style=\"text-align: center\">4</th><th style=\"text-align: center\">...</th><th style=\"text-align: center\">2499</th><th style=\"text-align: center\">2500</th><th style=\"text-align: center\">2501</th><th style=\"text-align: center\">2502</th><th style=\"text-align: center\">2503</th></tr></thead><tbody><tr><th style=\"text-align: center; background-color: white; border-right: 1px solid black; \">0</th><td style=\"text-align: center\">1/1</td><td style=\"text-align: center\">1/1</td><td style=\"text-align: center\">1/1</td><td style=\"text-align: center\">1/1</td><td style=\"text-align: center\">1/1</td><td style=\"text-align: center\">...</td><td style=\"text-align: center\">1/1</td><td style=\"text-align: center\">1/1</td><td style=\"text-align: center\">1/1</td><td style=\"text-align: center\">1/1</td><td style=\"text-align: center\">1/1</td></tr><tr><th style=\"text-align: center; background-color: white; border-right: 1px solid black; \">1</th><td style=\"text-align: center\">0/0</td><td style=\"text-align: center\">0/0</td><td style=\"text-align: center\">0/0</td><td style=\"text-align: center\">0/0</td><td style=\"text-align: center\">0/0</td><td style=\"text-align: center\">...</td><td style=\"text-align: center\">0/0</td><td style=\"text-align: center\">0/0</td><td style=\"text-align: center\">0/0</td><td style=\"text-align: center\">1/1</td><td style=\"text-align: center\">0/0</td></tr><tr><th style=\"text-align: center; background-color: white; border-right: 1px solid black; \">2</th><td style=\"text-align: center\">1/1</td><td style=\"text-align: center\">0/0</td><td style=\"text-align: center\">0/0</td><td style=\"text-align: center\">0/0</td><td style=\"text-align: center\">0/1</td><td style=\"text-align: center\">...</td><td style=\"text-align: center\">1/1</td><td style=\"text-align: center\">1/1</td><td style=\"text-align: center\">1/0</td><td style=\"text-align: center\">1/1</td><td style=\"text-align: center\">0/0</td></tr><tr><th style=\"text-align: center; background-color: white; border-right: 1px solid black; \">...</th><td style=\"text-align: center\" colspan=\"12\">...</td></tr><tr><th style=\"text-align: center; background-color: white; border-right: 1px solid black; \">2858</th><td style=\"text-align: center\">1/1</td><td style=\"text-align: center\">0/0</td><td style=\"text-align: center\">0/1</td><td style=\"text-align: center\">0/0</td><td style=\"text-align: center\">1/1</td><td style=\"text-align: center\">...</td><td style=\"text-align: center\">0/1</td><td style=\"text-align: center\">1/1</td><td style=\"text-align: center\">0/1</td><td style=\"text-align: center\">1/1</td><td style=\"text-align: center\">1/1</td></tr><tr><th style=\"text-align: center; background-color: white; border-right: 1px solid black; \">2859</th><td style=\"text-align: center\">1/1</td><td style=\"text-align: center\">1/1</td><td style=\"text-align: center\">1/1</td><td style=\"text-align: center\">1/1</td><td style=\"text-align: center\">1/1</td><td style=\"text-align: center\">...</td><td style=\"text-align: center\">1/1</td><td style=\"text-align: center\">1/1</td><td style=\"text-align: center\">1/1</td><td style=\"text-align: center\">1/1</td><td style=\"text-align: center\">1/1</td></tr><tr><th style=\"text-align: center; background-color: white; border-right: 1px solid black; \">2860</th><td style=\"text-align: center\">1/1</td><td style=\"text-align: center\">1/1</td><td style=\"text-align: center\">0/1</td><td style=\"text-align: center\">1/0</td><td style=\"text-align: center\">1/1</td><td style=\"text-align: center\">...</td><td style=\"text-align: center\">1/1</td><td style=\"text-align: center\">1/1</td><td style=\"text-align: center\">1/1</td><td style=\"text-align: center\">1/1</td><td style=\"text-align: center\">1/1</td></tr></tbody></table></div>"
      ],
      "text/plain": [
       "<GenotypeArray shape=(2861, 2504, 2) dtype=int8>\n",
       "1/1 1/1 1/1 1/1 1/1 ... 1/1 1/1 1/1 1/1 1/1\n",
       "0/0 0/0 0/0 0/0 0/0 ... 0/0 0/0 0/0 1/1 0/0\n",
       "1/1 0/0 0/0 0/0 0/1 ... 1/1 1/1 1/0 1/1 0/0\n",
       "...\n",
       "1/1 0/0 0/1 0/0 1/1 ... 0/1 1/1 0/1 1/1 1/1\n",
       "1/1 1/1 1/1 1/1 1/1 ... 1/1 1/1 1/1 1/1 1/1\n",
       "1/1 1/1 0/1 1/0 1/1 ... 1/1 1/1 1/1 1/1 1/1"
      ]
     },
     "execution_count": 26,
     "metadata": {
      "tags": []
     },
     "output_type": "execute_result"
    }
   ],
   "source": [
    "gt_select = gt[loc_group_select]\n",
    "gt_select"
   ]
  },
  {
   "cell_type": "code",
   "execution_count": 0,
   "metadata": {
    "colab": {
     "base_uri": "https://localhost:8080/",
     "height": 51
    },
    "colab_type": "code",
    "executionInfo": {
     "elapsed": 424,
     "status": "ok",
     "timestamp": 1570419007453,
     "user": {
      "displayName": "Margaret Y. Paiva",
      "photoUrl": "",
      "userId": "06544974911748493519"
     },
     "user_tz": 240
    },
    "id": "NsfMkwZlsAAe",
    "outputId": "b82125be-0669-4aa0-add2-6ef72e0cf36f"
   },
   "outputs": [
    {
     "name": "stdout",
     "output_type": "stream",
     "text": [
      "number of variants that have EAS_AF no less than 0.5: 2861 \n",
      "\n"
     ]
    }
   ],
   "source": [
    "alt_count = gt_select.count_alleles()\n",
    "\n",
    "variant_id = np.array(vcfzarr[\"11/variants/ID\"])\n",
    "\n",
    "ac = pd.DataFrame(gt_select.count_alleles())\n",
    "ac.index = np.array(variant_id)[loc_group_select]\n",
    "\n",
    "print(\"number of variants that have EAS_AF no less than 0.5:\", np.sum(loc_group_select), \"\\n\")"
   ]
  },
  {
   "cell_type": "markdown",
   "metadata": {
    "colab_type": "text",
    "id": "cWUyqQiHS0Pu"
   },
   "source": [
    "### Fisher's Exact Test"
   ]
  },
  {
   "cell_type": "markdown",
   "metadata": {
    "colab_type": "text",
    "id": "Qwo4DhGuS0Pz"
   },
   "source": [
    "* `ref_count_noneas`: number of reference allele count in non-EAS population\n",
    "* `alt_count_noneas`: number of alternate allele count in non-EAS population\n",
    "* `ref_count_eas`: number of reference allele count in EAS population\n",
    "* `alt_count_eas`: number of alternate allele count in EAS population"
   ]
  },
  {
   "cell_type": "code",
   "execution_count": 0,
   "metadata": {
    "colab": {},
    "colab_type": "code",
    "id": "f_k6GZ0DVHpc"
   },
   "outputs": [],
   "source": [
    "if \"gt\" in dir():\n",
    "    del gt\n",
    "    \n",
    "csv_eas = csv[csv['Superpopulation code'] == 'EAS']\n",
    "csv_non = csv[csv['Superpopulation code'] != 'EAS']\n",
    "\n",
    "csv_eas_index = np.array(csv_eas['Sample name'])\n",
    "csv_non_index = np.array(csv_non['Sample name'])"
   ]
  },
  {
   "cell_type": "code",
   "execution_count": 0,
   "metadata": {
    "colab": {
     "base_uri": "https://localhost:8080/",
     "height": 68
    },
    "colab_type": "code",
    "executionInfo": {
     "elapsed": 703,
     "status": "ok",
     "timestamp": 1570419086554,
     "user": {
      "displayName": "Margaret Y. Paiva",
      "photoUrl": "",
      "userId": "06544974911748493519"
     },
     "user_tz": 240
    },
    "id": "id8TPN27DSmv",
    "outputId": "62537c51-15ac-446e-d97b-bb8ee013fc60"
   },
   "outputs": [
    {
     "name": "stdout",
     "output_type": "stream",
     "text": [
      "2504\n"
     ]
    },
    {
     "data": {
      "text/plain": [
       "array(['HG00096', 'HG00097', 'HG00099', ..., 'NA21142', 'NA21143',\n",
       "       'NA21144'], dtype=object)"
      ]
     },
     "execution_count": 77,
     "metadata": {
      "tags": []
     },
     "output_type": "execute_result"
    }
   ],
   "source": [
    "vcf_subjects = np.array(vcfzarr['11/samples'])\n",
    "print(len(vcf_subjects))\n",
    "vcf_subjects"
   ]
  },
  {
   "cell_type": "code",
   "execution_count": 0,
   "metadata": {
    "colab": {},
    "colab_type": "code",
    "id": "_TizzyAlyoDu"
   },
   "outputs": [],
   "source": [
    "index_eas = np.array([x in csv_eas_index for x in vcf_subjects])\n",
    "index_non = np.array([x in csv_non_index for x in vcf_subjects])"
   ]
  },
  {
   "cell_type": "code",
   "execution_count": 0,
   "metadata": {
    "colab": {
     "base_uri": "https://localhost:8080/",
     "height": 204
    },
    "colab_type": "code",
    "executionInfo": {
     "elapsed": 373,
     "status": "ok",
     "timestamp": 1570419091991,
     "user": {
      "displayName": "Margaret Y. Paiva",
      "photoUrl": "",
      "userId": "06544974911748493519"
     },
     "user_tz": 240
    },
    "id": "lUah8ccOMHgH",
    "outputId": "2ff4473e-1a0a-41a9-86e0-1d87b03a6cab"
   },
   "outputs": [
    {
     "data": {
      "text/html": [
       "<div class=\"allel allel-DisplayAs2D\"><span>&lt;GenotypeArray shape=(2861, 504, 2) dtype=int8&gt;</span><table><thead><tr><th></th><th style=\"text-align: center\">0</th><th style=\"text-align: center\">1</th><th style=\"text-align: center\">2</th><th style=\"text-align: center\">3</th><th style=\"text-align: center\">4</th><th style=\"text-align: center\">...</th><th style=\"text-align: center\">499</th><th style=\"text-align: center\">500</th><th style=\"text-align: center\">501</th><th style=\"text-align: center\">502</th><th style=\"text-align: center\">503</th></tr></thead><tbody><tr><th style=\"text-align: center; background-color: white; border-right: 1px solid black; \">0</th><td style=\"text-align: center\">1/1</td><td style=\"text-align: center\">1/1</td><td style=\"text-align: center\">1/1</td><td style=\"text-align: center\">1/1</td><td style=\"text-align: center\">1/1</td><td style=\"text-align: center\">...</td><td style=\"text-align: center\">1/1</td><td style=\"text-align: center\">1/1</td><td style=\"text-align: center\">1/1</td><td style=\"text-align: center\">1/1</td><td style=\"text-align: center\">1/1</td></tr><tr><th style=\"text-align: center; background-color: white; border-right: 1px solid black; \">1</th><td style=\"text-align: center\">0/1</td><td style=\"text-align: center\">0/0</td><td style=\"text-align: center\">0/0</td><td style=\"text-align: center\">0/0</td><td style=\"text-align: center\">1/1</td><td style=\"text-align: center\">...</td><td style=\"text-align: center\">0/0</td><td style=\"text-align: center\">0/0</td><td style=\"text-align: center\">1/1</td><td style=\"text-align: center\">1/0</td><td style=\"text-align: center\">1/1</td></tr><tr><th style=\"text-align: center; background-color: white; border-right: 1px solid black; \">2</th><td style=\"text-align: center\">1/1</td><td style=\"text-align: center\">1/0</td><td style=\"text-align: center\">1/1</td><td style=\"text-align: center\">1/1</td><td style=\"text-align: center\">1/1</td><td style=\"text-align: center\">...</td><td style=\"text-align: center\">1/1</td><td style=\"text-align: center\">1/1</td><td style=\"text-align: center\">1/1</td><td style=\"text-align: center\">1/1</td><td style=\"text-align: center\">1/1</td></tr><tr><th style=\"text-align: center; background-color: white; border-right: 1px solid black; \">...</th><td style=\"text-align: center\" colspan=\"12\">...</td></tr><tr><th style=\"text-align: center; background-color: white; border-right: 1px solid black; \">2858</th><td style=\"text-align: center\">1/1</td><td style=\"text-align: center\">1/0</td><td style=\"text-align: center\">1/1</td><td style=\"text-align: center\">0/0</td><td style=\"text-align: center\">0/1</td><td style=\"text-align: center\">...</td><td style=\"text-align: center\">1/0</td><td style=\"text-align: center\">0/1</td><td style=\"text-align: center\">0/0</td><td style=\"text-align: center\">1/1</td><td style=\"text-align: center\">1/0</td></tr><tr><th style=\"text-align: center; background-color: white; border-right: 1px solid black; \">2859</th><td style=\"text-align: center\">1/1</td><td style=\"text-align: center\">1/1</td><td style=\"text-align: center\">1/1</td><td style=\"text-align: center\">0/1</td><td style=\"text-align: center\">1/1</td><td style=\"text-align: center\">...</td><td style=\"text-align: center\">1/1</td><td style=\"text-align: center\">1/1</td><td style=\"text-align: center\">1/1</td><td style=\"text-align: center\">1/1</td><td style=\"text-align: center\">1/1</td></tr><tr><th style=\"text-align: center; background-color: white; border-right: 1px solid black; \">2860</th><td style=\"text-align: center\">0/0</td><td style=\"text-align: center\">0/0</td><td style=\"text-align: center\">1/0</td><td style=\"text-align: center\">0/0</td><td style=\"text-align: center\">0/1</td><td style=\"text-align: center\">...</td><td style=\"text-align: center\">1/0</td><td style=\"text-align: center\">1/1</td><td style=\"text-align: center\">0/0</td><td style=\"text-align: center\">0/1</td><td style=\"text-align: center\">1/0</td></tr></tbody></table></div>"
      ],
      "text/plain": [
       "<GenotypeArray shape=(2861, 504, 2) dtype=int8>\n",
       "1/1 1/1 1/1 1/1 1/1 ... 1/1 1/1 1/1 1/1 1/1\n",
       "0/1 0/0 0/0 0/0 1/1 ... 0/0 0/0 1/1 1/0 1/1\n",
       "1/1 1/0 1/1 1/1 1/1 ... 1/1 1/1 1/1 1/1 1/1\n",
       "...\n",
       "1/1 1/0 1/1 0/0 0/1 ... 1/0 0/1 0/0 1/1 1/0\n",
       "1/1 1/1 1/1 0/1 1/1 ... 1/1 1/1 1/1 1/1 1/1\n",
       "0/0 0/0 1/0 0/0 0/1 ... 1/0 1/1 0/0 0/1 1/0"
      ]
     },
     "execution_count": 79,
     "metadata": {
      "tags": []
     },
     "output_type": "execute_result"
    }
   ],
   "source": [
    "gt_eas = gt_select[:, index_eas]\n",
    "gt_eas   # the genotype of EAS"
   ]
  },
  {
   "cell_type": "code",
   "execution_count": 0,
   "metadata": {
    "colab": {
     "base_uri": "https://localhost:8080/",
     "height": 204
    },
    "colab_type": "code",
    "executionInfo": {
     "elapsed": 426,
     "status": "ok",
     "timestamp": 1570419103532,
     "user": {
      "displayName": "Margaret Y. Paiva",
      "photoUrl": "",
      "userId": "06544974911748493519"
     },
     "user_tz": 240
    },
    "id": "tnEiUCaKrE5V",
    "outputId": "03932552-53bf-4dd3-a0a3-446ca75f6709"
   },
   "outputs": [
    {
     "data": {
      "text/html": [
       "<div class=\"allel allel-DisplayAs2D\"><span>&lt;AlleleCountsArray shape=(2861, 4) dtype=int32&gt;</span><table><thead><tr><th></th><th style=\"text-align: center\">0</th><th style=\"text-align: center\">1</th><th style=\"text-align: center\">2</th><th style=\"text-align: center\">3</th></tr></thead><tbody><tr><th style=\"text-align: center; background-color: white; border-right: 1px solid black; \">0</th><td style=\"text-align: center\">   8</td><td style=\"text-align: center\">1000</td><td style=\"text-align: center\">   0</td><td style=\"text-align: center\">   0</td></tr><tr><th style=\"text-align: center; background-color: white; border-right: 1px solid black; \">1</th><td style=\"text-align: center\"> 501</td><td style=\"text-align: center\"> 507</td><td style=\"text-align: center\">   0</td><td style=\"text-align: center\">   0</td></tr><tr><th style=\"text-align: center; background-color: white; border-right: 1px solid black; \">2</th><td style=\"text-align: center\"> 164</td><td style=\"text-align: center\"> 844</td><td style=\"text-align: center\">   0</td><td style=\"text-align: center\">   0</td></tr><tr><th style=\"text-align: center; background-color: white; border-right: 1px solid black; \">...</th><td style=\"text-align: center\" colspan=\"5\">...</td></tr><tr><th style=\"text-align: center; background-color: white; border-right: 1px solid black; \">2858</th><td style=\"text-align: center\">252</td><td style=\"text-align: center\">756</td><td style=\"text-align: center\">  0</td><td style=\"text-align: center\">  0</td></tr><tr><th style=\"text-align: center; background-color: white; border-right: 1px solid black; \">2859</th><td style=\"text-align: center\"> 12</td><td style=\"text-align: center\">996</td><td style=\"text-align: center\">  0</td><td style=\"text-align: center\">  0</td></tr><tr><th style=\"text-align: center; background-color: white; border-right: 1px solid black; \">2860</th><td style=\"text-align: center\">460</td><td style=\"text-align: center\">548</td><td style=\"text-align: center\">  0</td><td style=\"text-align: center\">  0</td></tr></tbody></table></div>"
      ],
      "text/plain": [
       "<AlleleCountsArray shape=(2861, 4) dtype=int32>\n",
       "   8 1000    0    0\n",
       " 501  507    0    0\n",
       " 164  844    0    0\n",
       "...\n",
       "252 756   0   0\n",
       " 12 996   0   0\n",
       "460 548   0   0"
      ]
     },
     "execution_count": 80,
     "metadata": {
      "tags": []
     },
     "output_type": "execute_result"
    }
   ],
   "source": [
    "count_eas = gt_eas.count_alleles()\n",
    "count_eas"
   ]
  },
  {
   "cell_type": "code",
   "execution_count": 0,
   "metadata": {
    "colab": {
     "base_uri": "https://localhost:8080/",
     "height": 204
    },
    "colab_type": "code",
    "executionInfo": {
     "elapsed": 771,
     "status": "ok",
     "timestamp": 1570419110723,
     "user": {
      "displayName": "Margaret Y. Paiva",
      "photoUrl": "",
      "userId": "06544974911748493519"
     },
     "user_tz": 240
    },
    "id": "fSqWc2MXN409",
    "outputId": "0b4bece2-4c44-413e-9948-3154cdc6d1ef"
   },
   "outputs": [
    {
     "data": {
      "text/html": [
       "<div class=\"allel allel-DisplayAs2D\"><span>&lt;GenotypeArray shape=(2861, 2000, 2) dtype=int8&gt;</span><table><thead><tr><th></th><th style=\"text-align: center\">0</th><th style=\"text-align: center\">1</th><th style=\"text-align: center\">2</th><th style=\"text-align: center\">3</th><th style=\"text-align: center\">4</th><th style=\"text-align: center\">...</th><th style=\"text-align: center\">1995</th><th style=\"text-align: center\">1996</th><th style=\"text-align: center\">1997</th><th style=\"text-align: center\">1998</th><th style=\"text-align: center\">1999</th></tr></thead><tbody><tr><th style=\"text-align: center; background-color: white; border-right: 1px solid black; \">0</th><td style=\"text-align: center\">1/1</td><td style=\"text-align: center\">1/1</td><td style=\"text-align: center\">1/1</td><td style=\"text-align: center\">1/1</td><td style=\"text-align: center\">1/1</td><td style=\"text-align: center\">...</td><td style=\"text-align: center\">1/1</td><td style=\"text-align: center\">1/1</td><td style=\"text-align: center\">1/1</td><td style=\"text-align: center\">1/1</td><td style=\"text-align: center\">1/1</td></tr><tr><th style=\"text-align: center; background-color: white; border-right: 1px solid black; \">1</th><td style=\"text-align: center\">0/0</td><td style=\"text-align: center\">0/0</td><td style=\"text-align: center\">0/0</td><td style=\"text-align: center\">0/0</td><td style=\"text-align: center\">0/0</td><td style=\"text-align: center\">...</td><td style=\"text-align: center\">0/0</td><td style=\"text-align: center\">0/0</td><td style=\"text-align: center\">0/0</td><td style=\"text-align: center\">1/1</td><td style=\"text-align: center\">0/0</td></tr><tr><th style=\"text-align: center; background-color: white; border-right: 1px solid black; \">2</th><td style=\"text-align: center\">1/1</td><td style=\"text-align: center\">0/0</td><td style=\"text-align: center\">0/0</td><td style=\"text-align: center\">0/0</td><td style=\"text-align: center\">0/1</td><td style=\"text-align: center\">...</td><td style=\"text-align: center\">1/1</td><td style=\"text-align: center\">1/1</td><td style=\"text-align: center\">1/0</td><td style=\"text-align: center\">1/1</td><td style=\"text-align: center\">0/0</td></tr><tr><th style=\"text-align: center; background-color: white; border-right: 1px solid black; \">...</th><td style=\"text-align: center\" colspan=\"12\">...</td></tr><tr><th style=\"text-align: center; background-color: white; border-right: 1px solid black; \">2858</th><td style=\"text-align: center\">1/1</td><td style=\"text-align: center\">0/0</td><td style=\"text-align: center\">0/1</td><td style=\"text-align: center\">0/0</td><td style=\"text-align: center\">1/1</td><td style=\"text-align: center\">...</td><td style=\"text-align: center\">0/1</td><td style=\"text-align: center\">1/1</td><td style=\"text-align: center\">0/1</td><td style=\"text-align: center\">1/1</td><td style=\"text-align: center\">1/1</td></tr><tr><th style=\"text-align: center; background-color: white; border-right: 1px solid black; \">2859</th><td style=\"text-align: center\">1/1</td><td style=\"text-align: center\">1/1</td><td style=\"text-align: center\">1/1</td><td style=\"text-align: center\">1/1</td><td style=\"text-align: center\">1/1</td><td style=\"text-align: center\">...</td><td style=\"text-align: center\">1/1</td><td style=\"text-align: center\">1/1</td><td style=\"text-align: center\">1/1</td><td style=\"text-align: center\">1/1</td><td style=\"text-align: center\">1/1</td></tr><tr><th style=\"text-align: center; background-color: white; border-right: 1px solid black; \">2860</th><td style=\"text-align: center\">1/1</td><td style=\"text-align: center\">1/1</td><td style=\"text-align: center\">0/1</td><td style=\"text-align: center\">1/0</td><td style=\"text-align: center\">1/1</td><td style=\"text-align: center\">...</td><td style=\"text-align: center\">1/1</td><td style=\"text-align: center\">1/1</td><td style=\"text-align: center\">1/1</td><td style=\"text-align: center\">1/1</td><td style=\"text-align: center\">1/1</td></tr></tbody></table></div>"
      ],
      "text/plain": [
       "<GenotypeArray shape=(2861, 2000, 2) dtype=int8>\n",
       "1/1 1/1 1/1 1/1 1/1 ... 1/1 1/1 1/1 1/1 1/1\n",
       "0/0 0/0 0/0 0/0 0/0 ... 0/0 0/0 0/0 1/1 0/0\n",
       "1/1 0/0 0/0 0/0 0/1 ... 1/1 1/1 1/0 1/1 0/0\n",
       "...\n",
       "1/1 0/0 0/1 0/0 1/1 ... 0/1 1/1 0/1 1/1 1/1\n",
       "1/1 1/1 1/1 1/1 1/1 ... 1/1 1/1 1/1 1/1 1/1\n",
       "1/1 1/1 0/1 1/0 1/1 ... 1/1 1/1 1/1 1/1 1/1"
      ]
     },
     "execution_count": 81,
     "metadata": {
      "tags": []
     },
     "output_type": "execute_result"
    }
   ],
   "source": [
    "gt_non = gt_select[:, index_non]\n",
    "gt_non    # the genotype of NON-EAS"
   ]
  },
  {
   "cell_type": "code",
   "execution_count": 0,
   "metadata": {
    "colab": {
     "base_uri": "https://localhost:8080/",
     "height": 204
    },
    "colab_type": "code",
    "executionInfo": {
     "elapsed": 592,
     "status": "ok",
     "timestamp": 1570419118603,
     "user": {
      "displayName": "Margaret Y. Paiva",
      "photoUrl": "",
      "userId": "06544974911748493519"
     },
     "user_tz": 240
    },
    "id": "BRhpAUprrS9U",
    "outputId": "c31cbaf5-4969-4573-b350-d7872fa74ddf"
   },
   "outputs": [
    {
     "data": {
      "text/html": [
       "<div class=\"allel allel-DisplayAs2D\"><span>&lt;AlleleCountsArray shape=(2861, 4) dtype=int32&gt;</span><table><thead><tr><th></th><th style=\"text-align: center\">0</th><th style=\"text-align: center\">1</th><th style=\"text-align: center\">2</th><th style=\"text-align: center\">3</th></tr></thead><tbody><tr><th style=\"text-align: center; background-color: white; border-right: 1px solid black; \">0</th><td style=\"text-align: center\"> 355</td><td style=\"text-align: center\">3645</td><td style=\"text-align: center\">   0</td><td style=\"text-align: center\">   0</td></tr><tr><th style=\"text-align: center; background-color: white; border-right: 1px solid black; \">1</th><td style=\"text-align: center\">3368</td><td style=\"text-align: center\"> 632</td><td style=\"text-align: center\">   0</td><td style=\"text-align: center\">   0</td></tr><tr><th style=\"text-align: center; background-color: white; border-right: 1px solid black; \">2</th><td style=\"text-align: center\">1891</td><td style=\"text-align: center\">2109</td><td style=\"text-align: center\">   0</td><td style=\"text-align: center\">   0</td></tr><tr><th style=\"text-align: center; background-color: white; border-right: 1px solid black; \">...</th><td style=\"text-align: center\" colspan=\"5\">...</td></tr><tr><th style=\"text-align: center; background-color: white; border-right: 1px solid black; \">2858</th><td style=\"text-align: center\">2632</td><td style=\"text-align: center\">1368</td><td style=\"text-align: center\">   0</td><td style=\"text-align: center\">   0</td></tr><tr><th style=\"text-align: center; background-color: white; border-right: 1px solid black; \">2859</th><td style=\"text-align: center\"> 106</td><td style=\"text-align: center\">3894</td><td style=\"text-align: center\">   0</td><td style=\"text-align: center\">   0</td></tr><tr><th style=\"text-align: center; background-color: white; border-right: 1px solid black; \">2860</th><td style=\"text-align: center\">1492</td><td style=\"text-align: center\">2508</td><td style=\"text-align: center\">   0</td><td style=\"text-align: center\">   0</td></tr></tbody></table></div>"
      ],
      "text/plain": [
       "<AlleleCountsArray shape=(2861, 4) dtype=int32>\n",
       " 355 3645    0    0\n",
       "3368  632    0    0\n",
       "1891 2109    0    0\n",
       "...\n",
       "2632 1368    0    0\n",
       " 106 3894    0    0\n",
       "1492 2508    0    0"
      ]
     },
     "execution_count": 82,
     "metadata": {
      "tags": []
     },
     "output_type": "execute_result"
    }
   ],
   "source": [
    "count_non = gt_non.count_alleles()\n",
    "count_non"
   ]
  },
  {
   "cell_type": "code",
   "execution_count": 0,
   "metadata": {
    "colab": {
     "base_uri": "https://localhost:8080/",
     "height": 204
    },
    "colab_type": "code",
    "executionInfo": {
     "elapsed": 461,
     "status": "ok",
     "timestamp": 1570419122378,
     "user": {
      "displayName": "Margaret Y. Paiva",
      "photoUrl": "",
      "userId": "06544974911748493519"
     },
     "user_tz": 240
    },
    "id": "IGW-bpiqClB5",
    "outputId": "4841cbb2-5987-49ed-cc3e-2c0d40b8db90"
   },
   "outputs": [
    {
     "data": {
      "text/html": [
       "<div>\n",
       "<style scoped>\n",
       "    .dataframe tbody tr th:only-of-type {\n",
       "        vertical-align: middle;\n",
       "    }\n",
       "\n",
       "    .dataframe tbody tr th {\n",
       "        vertical-align: top;\n",
       "    }\n",
       "\n",
       "    .dataframe thead th {\n",
       "        text-align: right;\n",
       "    }\n",
       "</style>\n",
       "<table border=\"1\" class=\"dataframe\">\n",
       "  <thead>\n",
       "    <tr style=\"text-align: right;\">\n",
       "      <th></th>\n",
       "      <th>ref_count_noneas</th>\n",
       "      <th>alt_count_noneas</th>\n",
       "      <th>ref_count_eas</th>\n",
       "      <th>alt_count_eas</th>\n",
       "    </tr>\n",
       "  </thead>\n",
       "  <tbody>\n",
       "    <tr>\n",
       "      <th>rs371609562</th>\n",
       "      <td>355</td>\n",
       "      <td>3645</td>\n",
       "      <td>8</td>\n",
       "      <td>1000</td>\n",
       "    </tr>\n",
       "    <tr>\n",
       "      <th>rs574324672</th>\n",
       "      <td>3368</td>\n",
       "      <td>632</td>\n",
       "      <td>501</td>\n",
       "      <td>507</td>\n",
       "    </tr>\n",
       "    <tr>\n",
       "      <th>rs61869635</th>\n",
       "      <td>1891</td>\n",
       "      <td>2109</td>\n",
       "      <td>164</td>\n",
       "      <td>844</td>\n",
       "    </tr>\n",
       "    <tr>\n",
       "      <th>rs61869658</th>\n",
       "      <td>250</td>\n",
       "      <td>3750</td>\n",
       "      <td>0</td>\n",
       "      <td>1008</td>\n",
       "    </tr>\n",
       "    <tr>\n",
       "      <th>rs191800290</th>\n",
       "      <td>2864</td>\n",
       "      <td>1136</td>\n",
       "      <td>441</td>\n",
       "      <td>567</td>\n",
       "    </tr>\n",
       "  </tbody>\n",
       "</table>\n",
       "</div>"
      ],
      "text/plain": [
       "             ref_count_noneas  alt_count_noneas  ref_count_eas  alt_count_eas\n",
       "rs371609562               355              3645              8           1000\n",
       "rs574324672              3368               632            501            507\n",
       "rs61869635               1891              2109            164            844\n",
       "rs61869658                250              3750              0           1008\n",
       "rs191800290              2864              1136            441            567"
      ]
     },
     "execution_count": 83,
     "metadata": {
      "tags": []
     },
     "output_type": "execute_result"
    }
   ],
   "source": [
    "matrix4 = np.c_[np.array(count_non)[:, :2], np.array(count_eas)[:, :2]]\n",
    "column_header = ['ref_count_noneas', 'alt_count_noneas', 'ref_count_eas', 'alt_count_eas']\n",
    "table = pd.DataFrame(matrix4, columns = column_header)\n",
    "\n",
    "variant_id = np.array(vcfzarr[\"11/variants/ID\"])\n",
    "table.index = np.array(variant_id)[loc_group_select]\n",
    "table.head()    \n",
    "# the first 5 rows of the table with required 4 columns"
   ]
  },
  {
   "cell_type": "code",
   "execution_count": 0,
   "metadata": {
    "colab": {},
    "colab_type": "code",
    "id": "0Gg7EB705B9R"
   },
   "outputs": [],
   "source": [
    "# add 1 to each count to get a table called table_corr to avoid error in chi2_contingency()\n",
    "matrix4_corr = np.c_[np.array(count_non)[:, :2]+1, np.array(count_eas)[:, :2]+1]\n",
    "column_header = ['ref_count_noneas', 'alt_count_noneas', 'ref_count_eas', 'alt_count_eas']\n",
    "table_corr = pd.DataFrame(matrix4_corr, columns = column_header)\n",
    "\n",
    "variant_id = np.array(vcfzarr[\"11/variants/ID\"])\n",
    "table_corr.index = np.array(variant_id)[loc_group_select]\n",
    "# table_corr"
   ]
  },
  {
   "cell_type": "markdown",
   "metadata": {
    "colab_type": "text",
    "id": "5G52jIoyS0QE"
   },
   "source": [
    "Now, we can perform Chi-squared test on each row and obtain the significance ( _i.e._ chi-square and P-value) of the distribution. Refer to the [scipy.stats.chi2_contingency](https://docs.scipy.org/doc/scipy/reference/generated/scipy.stats.chi2_contingency.html) function."
   ]
  },
  {
   "cell_type": "code",
   "execution_count": 0,
   "metadata": {
    "colab": {
     "base_uri": "https://localhost:8080/",
     "height": 204
    },
    "colab_type": "code",
    "executionInfo": {
     "elapsed": 1714,
     "status": "ok",
     "timestamp": 1570419152606,
     "user": {
      "displayName": "Margaret Y. Paiva",
      "photoUrl": "",
      "userId": "06544974911748493519"
     },
     "user_tz": 240
    },
    "id": "7usV6h2zVQWb",
    "outputId": "57695a25-bedf-4f46-e73e-d6f23521b828"
   },
   "outputs": [
    {
     "data": {
      "text/html": [
       "<div>\n",
       "<style scoped>\n",
       "    .dataframe tbody tr th:only-of-type {\n",
       "        vertical-align: middle;\n",
       "    }\n",
       "\n",
       "    .dataframe tbody tr th {\n",
       "        vertical-align: top;\n",
       "    }\n",
       "\n",
       "    .dataframe thead th {\n",
       "        text-align: right;\n",
       "    }\n",
       "</style>\n",
       "<table border=\"1\" class=\"dataframe\">\n",
       "  <thead>\n",
       "    <tr style=\"text-align: right;\">\n",
       "      <th></th>\n",
       "      <th>0</th>\n",
       "      <th>p_value</th>\n",
       "      <th>chi2</th>\n",
       "    </tr>\n",
       "  </thead>\n",
       "  <tbody>\n",
       "    <tr>\n",
       "      <th>rs7479605</th>\n",
       "      <td>(1604.5085014617066, 0.0, 1, [[3110.0937749401...</td>\n",
       "      <td>0.000000e+00</td>\n",
       "      <td>1604.508501</td>\n",
       "    </tr>\n",
       "    <tr>\n",
       "      <th>rs10832878</th>\n",
       "      <td>(1211.8151127350257, 1.650273623409321e-265, 1...</td>\n",
       "      <td>1.650274e-265</td>\n",
       "      <td>1211.815113</td>\n",
       "    </tr>\n",
       "    <tr>\n",
       "      <th>rs7124394</th>\n",
       "      <td>(1179.4207732069854, 1.8103869172441616e-258, ...</td>\n",
       "      <td>1.810387e-258</td>\n",
       "      <td>1179.420773</td>\n",
       "    </tr>\n",
       "    <tr>\n",
       "      <th>rs77537847</th>\n",
       "      <td>(1140.3993209513342, 5.4760255193711704e-250, ...</td>\n",
       "      <td>5.476026e-250</td>\n",
       "      <td>1140.399321</td>\n",
       "    </tr>\n",
       "    <tr>\n",
       "      <th>rs11246324</th>\n",
       "      <td>(1112.7523499422887, 5.587901389877683e-244, 1...</td>\n",
       "      <td>5.587901e-244</td>\n",
       "      <td>1112.752350</td>\n",
       "    </tr>\n",
       "  </tbody>\n",
       "</table>\n",
       "</div>"
      ],
      "text/plain": [
       "                                                            0  ...         chi2\n",
       "rs7479605   (1604.5085014617066, 0.0, 1, [[3110.0937749401...  ...  1604.508501\n",
       "rs10832878  (1211.8151127350257, 1.650273623409321e-265, 1...  ...  1211.815113\n",
       "rs7124394   (1179.4207732069854, 1.8103869172441616e-258, ...  ...  1179.420773\n",
       "rs77537847  (1140.3993209513342, 5.4760255193711704e-250, ...  ...  1140.399321\n",
       "rs11246324  (1112.7523499422887, 5.587901389877683e-244, 1...  ...  1112.752350\n",
       "\n",
       "[5 rows x 3 columns]"
      ]
     },
     "execution_count": 85,
     "metadata": {
      "tags": []
     },
     "output_type": "execute_result"
    }
   ],
   "source": [
    "# gt is not useful anymore, clear it from memory\n",
    "if \"gt\" in dir():\n",
    "    del gt\n",
    "\n",
    "chi2test = table_corr.apply(lambda x: chi2_contingency(np.array(x).reshape((2, 2))), axis=1)\n",
    "\n",
    "chi2result = pd.DataFrame(chi2test)\n",
    "chi2result['p_value'] = chi2test.apply(lambda x: x[1])\n",
    "chi2result['chi2'] = chi2test.apply(lambda x: x[0])\n",
    "\n",
    "chi2result_sorted = chi2result.sort_values(by='p_value')\n",
    "# del chi2result_sorted['0']\n",
    "chi2result_sorted.head()"
   ]
  },
  {
   "cell_type": "markdown",
   "metadata": {
    "colab_type": "text",
    "id": "XldFtOOJS0QL"
   },
   "source": [
    "According to the table sorted by P-value above, the top 5 variant ID that have significane distinct distribution in EAS are: \n",
    "\n",
    "rs7479605\t\n",
    "rs10832878\t\n",
    "rs7124394\t\n",
    "rs77537847\t\n",
    "rs11246324\t"
   ]
  },
  {
   "cell_type": "markdown",
   "metadata": {
    "colab_type": "text",
    "id": "bn1gDoLhS0QX"
   },
   "source": [
    "## Clinically relavant variants"
   ]
  },
  {
   "cell_type": "code",
   "execution_count": 0,
   "metadata": {
    "colab": {},
    "colab_type": "code",
    "id": "BPdKt8hjiFOe"
   },
   "outputs": [],
   "source": [
    "# !gzip -cd /content/drive/My\\ Drive/data/clinvar_20190909.vcf.gz | head -n 100"
   ]
  },
  {
   "cell_type": "code",
   "execution_count": 1,
   "metadata": {
    "colab": {
     "base_uri": "https://localhost:8080/",
     "height": 258
    },
    "colab_type": "code",
    "executionInfo": {
     "elapsed": 4105,
     "status": "ok",
     "timestamp": 1570150605800,
     "user": {
      "displayName": "Margaret Y. Paiva",
      "photoUrl": "",
      "userId": "06544974911748493519"
     },
     "user_tz": 240
    },
    "id": "gZb37YWUV69n",
    "outputId": "42b08d48-b645-469c-ee54-2efef43a4cee"
   },
   "outputs": [],
   "source": [
    "clinvar_file = DATA /\"clinvar_20190909.vcf.gz\"\n",
    "\n",
    "def get_vcfvep_header(filename):\n",
    "    with gzip.open(filename, \"rb\") as fi:\n",
    "        for l in fi:\n",
    "            l = l.decode(\"utf-8\")\n",
    "            if l.startswith(\"##\"):\n",
    "                continue\n",
    "            elif l.startswith(\"#\"):\n",
    "                return l[1:].strip().split(\"\\t\")\n",
    "            else:\n",
    "                raise ValueError(\"Something is wrong in the file!\")\n",
    "                \n",
    "clinvar_header = get_vcfvep_header(clinvar_file)\n",
    "\n",
    "clinvar = pd.read_csv(clinvar_file, comment='#', sep=\"\\t\")\n",
    "clinvar.columns = clinvar_header\n",
    "\n",
    "clinvar.head()"
   ]
  },
  {
   "cell_type": "code",
   "execution_count": 0,
   "metadata": {
    "colab": {
     "base_uri": "https://localhost:8080/",
     "height": 173
    },
    "colab_type": "code",
    "executionInfo": {
     "elapsed": 1213,
     "status": "ok",
     "timestamp": 1570109944192,
     "user": {
      "displayName": "Margaret Y. Paiva",
      "photoUrl": "",
      "userId": "06544974911748493519"
     },
     "user_tz": 240
    },
    "id": "qCcf6JgylTKs",
    "outputId": "f2a0a8bd-5459-4a91-b4c7-cb68a1281048"
   },
   "outputs": [
    {
     "data": {
      "text/plain": [
       "array(['AF_ESP=0.00546;AF_EXAC=0.00165;AF_TGP=0.00619;ALLELEID=446939;CLNDISDB=MedGen:C4015293,OMIM:616126,Orphanet:ORPHA319563;CLNDN=Immunodeficiency_38_with_basal_ganglia_calcification;CLNHGVS=NC_000001.10:g.949422G>A;CLNREVSTAT=criteria_provided,_single_submitter;CLNSIG=Benign;CLNVC=single_nucleotide_variant;CLNVCSO=SO:0001483;GENEINFO=ISG15:9636;MC=SO:0001583|missense_variant;ORIGIN=1;RS=143888043',\n",
       "       'ALLELEID=626469;CLNDISDB=MedGen:C4015293,OMIM:616126,Orphanet:ORPHA319563;CLNDN=Immunodeficiency_38_with_basal_ganglia_calcification;CLNHGVS=NC_000001.10:g.949427A>G;CLNREVSTAT=criteria_provided,_single_submitter;CLNSIG=Uncertain_significance;CLNVC=single_nucleotide_variant;CLNVCSO=SO:0001483;GENEINFO=ISG15:9636;MC=SO:0001583|missense_variant;ORIGIN=1',\n",
       "       'ALLELEID=626470;CLNDISDB=MedGen:C4015293,OMIM:616126,Orphanet:ORPHA319563;CLNDN=Immunodeficiency_38_with_basal_ganglia_calcification;CLNHGVS=NC_000001.10:g.949491G>A;CLNREVSTAT=criteria_provided,_single_submitter;CLNSIG=Uncertain_significance;CLNVC=single_nucleotide_variant;CLNVCSO=SO:0001483;GENEINFO=ISG15:9636;MC=SO:0001583|missense_variant;ORIGIN=1',\n",
       "       ...,\n",
       "       'AF_ESP=0.00123;AF_EXAC=0.00048;ALLELEID=613772;CLNDISDB=MedGen:CN258289,OMIM:400047;CLNDN=Deafness,_Y-linked_2;CLNHGVS=NC_000024.9:g.6931939A>T;CLNREVSTAT=no_assertion_criteria_provided;CLNSIG=Pathogenic;CLNVC=single_nucleotide_variant;CLNVCSO=SO:0001483;CLNVI=OMIM_Allelic_Variant:400033.0001;GENEINFO=TBL1Y:90665;MC=SO:0001583|missense_variant;ORIGIN=1;RS=199659121',\n",
       "       'ALLELEID=550288;CLNDISDB=MedGen:CN517202;CLNDN=not_provided;CLNHGVS=NC_000024.9:g.16734259G>A;CLNREVSTAT=criteria_provided,_single_submitter;CLNSIG=Uncertain_significance;CLNVC=single_nucleotide_variant;CLNVCSO=SO:0001483;GENEINFO=NLGN4Y:22829;MC=SO:0001583|missense_variant,SO:0001619|non-coding_transcript_variant,SO:0001627|intron_variant;ORIGIN=32;RS=1556057385',\n",
       "       'ALLELEID=380134;CLNDISDB=MedGen:CN517202;CLNDN=not_provided;CLNHGVS=NC_000024.9:g.16942001C>A;CLNREVSTAT=criteria_provided,_single_submitter;CLNSIG=Uncertain_significance;CLNVC=single_nucleotide_variant;CLNVCSO=SO:0001483;GENEINFO=NLGN4Y:22829;MC=SO:0001583|missense_variant,SO:0001619|non-coding_transcript_variant;ORIGIN=1;RS=1057524272'],\n",
       "      dtype=object)"
      ]
     },
     "execution_count": 34,
     "metadata": {
      "tags": []
     },
     "output_type": "execute_result"
    }
   ],
   "source": [
    "clinvar.INFO.unique()"
   ]
  },
  {
   "cell_type": "markdown",
   "metadata": {
    "colab_type": "text",
    "id": "Qyf5ZyCFS0Qc"
   },
   "source": [
    "Filter out the clinvar variants to keep only the pathogenic ones and the variants in chromosome 11."
   ]
  },
  {
   "cell_type": "code",
   "execution_count": 0,
   "metadata": {
    "colab": {
     "base_uri": "https://localhost:8080/",
     "height": 204
    },
    "colab_type": "code",
    "executionInfo": {
     "elapsed": 432,
     "status": "ok",
     "timestamp": 1570112736158,
     "user": {
      "displayName": "Margaret Y. Paiva",
      "photoUrl": "",
      "userId": "06544974911748493519"
     },
     "user_tz": 240
    },
    "id": "6jjuV4IqV7WI",
    "outputId": "c97ff99b-62ec-4c0e-c102-1c2fa5821b63"
   },
   "outputs": [
    {
     "data": {
      "text/html": [
       "<div>\n",
       "<style scoped>\n",
       "    .dataframe tbody tr th:only-of-type {\n",
       "        vertical-align: middle;\n",
       "    }\n",
       "\n",
       "    .dataframe tbody tr th {\n",
       "        vertical-align: top;\n",
       "    }\n",
       "\n",
       "    .dataframe thead th {\n",
       "        text-align: right;\n",
       "    }\n",
       "</style>\n",
       "<table border=\"1\" class=\"dataframe\">\n",
       "  <thead>\n",
       "    <tr style=\"text-align: right;\">\n",
       "      <th></th>\n",
       "      <th>CHROM</th>\n",
       "      <th>POS</th>\n",
       "      <th>ID</th>\n",
       "      <th>REF</th>\n",
       "      <th>ALT</th>\n",
       "      <th>QUAL</th>\n",
       "      <th>FILTER</th>\n",
       "      <th>INFO</th>\n",
       "    </tr>\n",
       "  </thead>\n",
       "  <tbody>\n",
       "    <tr>\n",
       "      <th>242774</th>\n",
       "      <td>11</td>\n",
       "      <td>299372</td>\n",
       "      <td>183677</td>\n",
       "      <td>G</td>\n",
       "      <td>A</td>\n",
       "      <td>.</td>\n",
       "      <td>.</td>\n",
       "      <td>ALLELEID=181576;CLNDISDB=MedGen:C2931093,OMIM:...</td>\n",
       "    </tr>\n",
       "    <tr>\n",
       "      <th>242783</th>\n",
       "      <td>11</td>\n",
       "      <td>299504</td>\n",
       "      <td>37143</td>\n",
       "      <td>G</td>\n",
       "      <td>A</td>\n",
       "      <td>.</td>\n",
       "      <td>.</td>\n",
       "      <td>ALLELEID=45805;CLNDISDB=MedGen:C2931093,OMIM:6...</td>\n",
       "    </tr>\n",
       "    <tr>\n",
       "      <th>242832</th>\n",
       "      <td>11</td>\n",
       "      <td>533308</td>\n",
       "      <td>522672</td>\n",
       "      <td>C</td>\n",
       "      <td>CG</td>\n",
       "      <td>.</td>\n",
       "      <td>.</td>\n",
       "      <td>ALLELEID=513316;CLNDISDB=MedGen:C0587248,OMIM:...</td>\n",
       "    </tr>\n",
       "    <tr>\n",
       "      <th>242841</th>\n",
       "      <td>11</td>\n",
       "      <td>533467</td>\n",
       "      <td>12607</td>\n",
       "      <td>C</td>\n",
       "      <td>T</td>\n",
       "      <td>.</td>\n",
       "      <td>.</td>\n",
       "      <td>ALLELEID=27646;CLNDISDB=Human_Phenotype_Ontolo...</td>\n",
       "    </tr>\n",
       "    <tr>\n",
       "      <th>242863</th>\n",
       "      <td>11</td>\n",
       "      <td>533553</td>\n",
       "      <td>12605</td>\n",
       "      <td>T</td>\n",
       "      <td>C</td>\n",
       "      <td>.</td>\n",
       "      <td>.</td>\n",
       "      <td>ALLELEID=27644;CLNDISDB=MedGen:C0587248,OMIM:2...</td>\n",
       "    </tr>\n",
       "  </tbody>\n",
       "</table>\n",
       "</div>"
      ],
      "text/plain": [
       "       CHROM     POS  ...  FILTER                                               INFO\n",
       "242774    11  299372  ...       .  ALLELEID=181576;CLNDISDB=MedGen:C2931093,OMIM:...\n",
       "242783    11  299504  ...       .  ALLELEID=45805;CLNDISDB=MedGen:C2931093,OMIM:6...\n",
       "242832    11  533308  ...       .  ALLELEID=513316;CLNDISDB=MedGen:C0587248,OMIM:...\n",
       "242841    11  533467  ...       .  ALLELEID=27646;CLNDISDB=Human_Phenotype_Ontolo...\n",
       "242863    11  533553  ...       .  ALLELEID=27644;CLNDISDB=MedGen:C0587248,OMIM:2...\n",
       "\n",
       "[5 rows x 8 columns]"
      ]
     },
     "execution_count": 48,
     "metadata": {
      "tags": []
     },
     "output_type": "execute_result"
    }
   ],
   "source": [
    "clinvar_c11 = clinvar[(clinvar.CHROM == 11)]\n",
    "clinvar_c11.head()\n",
    "\n",
    "# extract CLINSIG field from INFO column\n",
    "clinvar_c11patho = clinvar_c11[clinvar_c11.INFO.str.contains('CLNSIG=Pathogenic')]\n",
    "clinvar_c11patho.head()\n",
    "\n",
    "# # another way to extract CLINSIG field from INFO column\n",
    "# clinvar['clinsig'] = clinvar.INFO.apply(lambda i: dict([field.split('=') for field in i.split(';')])['CLNSIG'])\n",
    "# clinvar.clinsig.head()"
   ]
  },
  {
   "cell_type": "code",
   "execution_count": 0,
   "metadata": {
    "colab": {
     "base_uri": "https://localhost:8080/",
     "height": 34
    },
    "colab_type": "code",
    "executionInfo": {
     "elapsed": 278,
     "status": "ok",
     "timestamp": 1570112890756,
     "user": {
      "displayName": "Margaret Y. Paiva",
      "photoUrl": "",
      "userId": "06544974911748493519"
     },
     "user_tz": 240
    },
    "id": "rm4gj271SoNy",
    "outputId": "f4f20f6f-0269-4eac-b191-cfed9b26fb45"
   },
   "outputs": [
    {
     "data": {
      "text/plain": [
       "(4093, 8)"
      ]
     },
     "execution_count": 50,
     "metadata": {
      "tags": []
     },
     "output_type": "execute_result"
    }
   ],
   "source": [
    "clinvar_c11patho.shape"
   ]
  },
  {
   "cell_type": "markdown",
   "metadata": {
    "colab_type": "text",
    "id": "GblLQvQnWAPM"
   },
   "source": [
    "There are 4093 clinvar variants."
   ]
  }
 ],
 "metadata": {
  "colab": {
   "collapsed_sections": [],
   "name": "sub_HW1_Margaret.ipynb",
   "provenance": [],
   "toc_visible": true
  },
  "kernelspec": {
   "display_name": "Python 3",
   "language": "python",
   "name": "python3"
  },
  "language_info": {
   "codemirror_mode": {
    "name": "ipython",
    "version": 3
   },
   "file_extension": ".py",
   "mimetype": "text/x-python",
   "name": "python",
   "nbconvert_exporter": "python",
   "pygments_lexer": "ipython3",
   "version": "3.7.4"
  }
 },
 "nbformat": 4,
 "nbformat_minor": 1
}
