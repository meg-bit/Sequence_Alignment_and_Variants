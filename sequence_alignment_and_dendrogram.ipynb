{
 "cells": [
  {
   "cell_type": "code",
   "execution_count": 0,
   "metadata": {
    "colab": {
     "base_uri": "https://localhost:8080/",
     "height": 204
    },
    "colab_type": "code",
    "executionInfo": {
     "elapsed": 5010,
     "status": "ok",
     "timestamp": 1570140641906,
     "user": {
      "displayName": "Margaret Y. Paiva",
      "photoUrl": "",
      "userId": "06544974911748493519"
     },
     "user_tz": 240
    },
    "id": "1F3slcJLioEC",
    "outputId": "7e0b055b-ee8c-40a1-a77e-80986a4e3844"
   },
   "outputs": [
    {
     "name": "stdout",
     "output_type": "stream",
     "text": [
      "--2019-10-03 22:10:38--  http://www.clustal.org/omega/clustalo-1.2.4-Ubuntu-x86_64\n",
      "Resolving www.clustal.org (www.clustal.org)... 137.43.93.206\n",
      "Connecting to www.clustal.org (www.clustal.org)|137.43.93.206|:80... connected.\n",
      "HTTP request sent, awaiting response... 200 OK\n",
      "Length: 4921774 (4.7M)\n",
      "Saving to: ‘clustalo-1.2.4-Ubuntu-x86_64’\n",
      "\n",
      "clustalo-1.2.4-Ubun 100%[===================>]   4.69M  2.49MB/s    in 1.9s    \n",
      "\n",
      "2019-10-03 22:10:40 (2.49 MB/s) - ‘clustalo-1.2.4-Ubuntu-x86_64’ saved [4921774/4921774]\n",
      "\n"
     ]
    }
   ],
   "source": [
    "# install muscle command line\n",
    "!wget https://www.drive5.com/muscle/downloads3.8.31/muscle3.8.31_i86linux64.tar.gz\n",
    "!tar -zxvf muscle3.8.31_i86linux64.tar.gz\n",
    "!ln -s $(pwd)/muscle3.8.31_i86linux64 /bin/muscle\n",
    "\n",
    "# install clustalo command line\n",
    "!wget http://www.clustal.org/omega/clustalo-1.2.4-Ubuntu-x86_64\n",
    "!sudo chmod u+x clustalo-1.2.4-Ubuntu-x86_64\n",
    "!ln -s $(pwd)/clustalo-1.2.4-Ubuntu-x86_64 /bin/clustalo "
   ]
  },
  {
   "cell_type": "code",
   "execution_count": null,
   "metadata": {},
   "outputs": [],
   "source": [
    "from pathlib import Path\n",
    "import os\n",
    "from Bio import Entrez\n",
    "from Bio import SeqIO\n",
    "from Bio.Align.Applications import ClustalOmegaCommandline\n",
    "from Bio import AlignIO\n",
    "from Bio import Align\n",
    "from Bio.SubsMat.MatrixInfo import blosum62\n",
    "import numpy as np\n",
    "from matplotlib import pyplot as plt\n",
    "from scipy.cluster.hierarchy import linkage, dendrogram"
   ]
  },
  {
   "cell_type": "code",
   "execution_count": 0,
   "metadata": {
    "colab": {},
    "colab_type": "code",
    "id": "QQD4mkx-CCmA"
   },
   "outputs": [],
   "source": [
    "# Set up data folder\n",
    "DATA = Path('/content/drive/My Drive/data')"
   ]
  },
  {
   "cell_type": "markdown",
   "metadata": {
    "colab_type": "text",
    "id": "q1EydnmoR09r"
   },
   "source": [
    "## Pairwise alignment\n",
    "\n",
    "Use multiple alignment to identify conservative regions of the [Histone H1](https://en.wikipedia.org/wiki/Histone_H1) protein. \n",
    "\n",
    "First, download the protein sequences of Histone H1 from 5 species."
   ]
  },
  {
   "cell_type": "code",
   "execution_count": 0,
   "metadata": {
    "colab": {},
    "colab_type": "code",
    "id": "IkPaZ7-KR09s"
   },
   "outputs": [],
   "source": [
    "histone_seqs = {\n",
    "    \"human\": \"AAA63187.1\",\n",
    "    \"mouse\": \"AAA37814.1\",\n",
    "    \"rat\": \"AAA41305.1\",\n",
    "    \"chimp\": \"XP_003821619.1\",\n",
    "    \"cow\": \"NP_001069955.1\"\n",
    "}\n",
    "\n",
    "def save_genbank_protein(seq_id):\n",
    "    Entrez.email = \"myemail@columbia.edu\"\n",
    "    filename = \"{}.fasta\".format(seq_id.replace(\",\", \"_\"))\n",
    "    if not os.path.isfile(filename):\n",
    "        print(\"Downloading {}...\".format(filename))\n",
    "        handle = Entrez.efetch(db=\"protein\", id=seq_id, rettype=\"fasta\")\n",
    "        output = open(filename, \"w\")\n",
    "        output.write(handle.read())\n",
    "        output.close()\n",
    "        print(\"Saved {}\".format(filename))\n",
    "    return filename"
   ]
  },
  {
   "cell_type": "code",
   "execution_count": 0,
   "metadata": {
    "colab": {
     "base_uri": "https://localhost:8080/",
     "height": 68
    },
    "colab_type": "code",
    "executionInfo": {
     "elapsed": 2349,
     "status": "ok",
     "timestamp": 1570140609125,
     "user": {
      "displayName": "Margaret Y. Paiva",
      "photoUrl": "",
      "userId": "06544974911748493519"
     },
     "user_tz": 240
    },
    "id": "tAaL3fRKR09w",
    "outputId": "5c3e7711-e5f8-4000-fd93-2b355ebe1322"
   },
   "outputs": [
    {
     "name": "stdout",
     "output_type": "stream",
     "text": [
      "Downloading AAA63187.1_AAA37814.1_AAA41305.1_XP_003821619.1_NP_001069955.1.fasta...\n",
      "Saved AAA63187.1_AAA37814.1_AAA41305.1_XP_003821619.1_NP_001069955.1.fasta\n"
     ]
    },
    {
     "data": {
      "text/plain": [
       "'AAA63187.1_AAA37814.1_AAA41305.1_XP_003821619.1_NP_001069955.1.fasta'"
      ]
     },
     "execution_count": 130,
     "metadata": {
      "tags": []
     },
     "output_type": "execute_result"
    }
   ],
   "source": [
    "fasta_file = save_genbank_protein(','.join([histone_seqs[s] for s in histone_seqs]))\n",
    "fasta_file"
   ]
  },
  {
   "cell_type": "code",
   "execution_count": 0,
   "metadata": {
    "colab": {
     "base_uri": "https://localhost:8080/",
     "height": 34
    },
    "colab_type": "code",
    "executionInfo": {
     "elapsed": 528,
     "status": "ok",
     "timestamp": 1570140658344,
     "user": {
      "displayName": "Margaret Y. Paiva",
      "photoUrl": "",
      "userId": "06544974911748493519"
     },
     "user_tz": 240
    },
    "id": "Eeos5rRdSryx",
    "outputId": "c7c8598f-3670-4e4c-c930-15b7cf126274"
   },
   "outputs": [
    {
     "name": "stdout",
     "output_type": "stream",
     "text": [
      "clustalo -i AAA63187.1_AAA37814.1_AAA41305.1_XP_003821619.1_NP_001069955.1.fasta -o histone.aln.fasta --auto -v\n"
     ]
    }
   ],
   "source": [
    "record = SeqIO.parse(open(fasta_file, 'r'),\"fasta\")\n",
    "\n",
    "for seq in record:\n",
    "    print(\"ID: {}, Length: {}\".format(seq.id, len(seq)))\n",
    "    \n",
    "aln_file = 'histone.aln.fasta'\n",
    "if not os.path.isfile(aln_file):  # if the file has not been created\n",
    "    cline = ClustalOmegaCommandline(infile=fasta_file, outfile=aln_file, verbose=True, auto=True)\n",
    "    print(cline)\n",
    "    cline()"
   ]
  },
  {
   "cell_type": "code",
   "execution_count": 0,
   "metadata": {
    "colab": {
     "base_uri": "https://localhost:8080/",
     "height": 119
    },
    "colab_type": "code",
    "executionInfo": {
     "elapsed": 242,
     "status": "ok",
     "timestamp": 1569595393097,
     "user": {
      "displayName": "Margaret Y. Paiva",
      "photoUrl": "",
      "userId": "06544974911748493519"
     },
     "user_tz": 240
    },
    "id": "f3wmNOm2JRNt",
    "outputId": "60b402b3-5981-4eee-bb04-32b70f1f9c84"
   },
   "outputs": [
    {
     "name": "stdout",
     "output_type": "stream",
     "text": [
      "SingleLetterAlphabet() alignment with 5 rows and 223 columns\n",
      "MSETAPAAPA--APAPAEKTPVKKKARKSAGAAKRKASGPPVSE...KKK AAA63187.1\n",
      "MSETAPAAPA--APAPAEKTPVKKKARKAAGGAKRKTSGPPVSE...KKK AAA37814.1\n",
      "MSETAPAASSTLVPAPVEKPATKRRGKKPGMATARKPRGFSVSK...RK- AAA41305.1\n",
      "MTENSTSAPA-------AK-------PKRAKASKKSTDHPKYSD...KKK XP_003821619.1\n",
      "MTENSTSTPA-------AK-------PKRAKASKKSTDHPKYSD...KKK NP_001069955.1\n"
     ]
    }
   ],
   "source": [
    "histone_aln = AlignIO.read(aln_file, 'fasta')\n",
    "print(histone_aln)"
   ]
  },
  {
   "cell_type": "code",
   "execution_count": 0,
   "metadata": {
    "colab": {
     "base_uri": "https://localhost:8080/",
     "height": 122
    },
    "colab_type": "code",
    "executionInfo": {
     "elapsed": 385,
     "status": "ok",
     "timestamp": 1570140675344,
     "user": {
      "displayName": "Margaret Y. Paiva",
      "photoUrl": "",
      "userId": "06544974911748493519"
     },
     "user_tz": 240
    },
    "id": "OkOn7u7ZSzC9",
    "outputId": "42967032-0484-4838-df29-c74ead3e0f47"
   },
   "outputs": [
    {
     "data": {
      "text/plain": [
       "[SeqRecord(seq=Seq('MSETAPAAPAAPAPAEKTPVKKKARKSAGAAKRKASGPPVSELITKAVAASKER...KKK', SingleLetterAlphabet()), id='AAA63187.1', name='human', description='AAA63187.1 histone H1 [Homo sapiens]', dbxrefs=[]),\n",
       " SeqRecord(seq=Seq('MSETAPAAPAAPAPAEKTPVKKKARKAAGGAKRKTSGPPVSELITKAVAASKER...KKK', SingleLetterAlphabet()), id='AAA37814.1', name='mouse', description='AAA37814.1 histone H1 [Mus musculus domesticus]', dbxrefs=[]),\n",
       " SeqRecord(seq=Seq('MSETAPAASSTLVPAPVEKPATKRRGKKPGMATARKPRGFSVSKLIPEALSMSQ...GRK', SingleLetterAlphabet()), id='AAA41305.1', name='rat', description='AAA41305.1 histone H1 [Rattus norvegicus]', dbxrefs=[]),\n",
       " SeqRecord(seq=Seq('MTENSTSAPAAKPKRAKASKKSTDHPKYSDMIVAAIQAEKNRAGSSRQSIQKYI...KKK', SingleLetterAlphabet()), id='XP_003821619.1', name='chimp', description='XP_003821619.1 histone H1.0 [Pan paniscus]', dbxrefs=[]),\n",
       " SeqRecord(seq=Seq('MTENSTSTPAAKPKRAKASKKSTDHPKYSDMIVAAIQAEKNRAGSSRQSIQKYI...KKK', SingleLetterAlphabet()), id='NP_001069955.1', name='cow', description='NP_001069955.1 histone H1.0 [Bos taurus]', dbxrefs=[])]"
      ]
     },
     "execution_count": 134,
     "metadata": {
      "tags": []
     },
     "output_type": "execute_result"
    }
   ],
   "source": [
    "# records is a list of sequences\n",
    "records = [seq for seq in SeqIO.parse(fasta_file, format='fasta') if seq.seq != '']\n",
    "\n",
    "# add back taxonomy:\n",
    "tax_dict = dict([(histone_seqs[k], k) for k in histone_seqs])\n",
    "for seq in records:\n",
    "    seq.name = tax_dict[seq.name]\n",
    "    \n",
    "records"
   ]
  },
  {
   "cell_type": "code",
   "execution_count": 0,
   "metadata": {
    "colab": {
     "base_uri": "https://localhost:8080/",
     "height": 357
    },
    "colab_type": "code",
    "executionInfo": {
     "elapsed": 474,
     "status": "ok",
     "timestamp": 1570140685368,
     "user": {
      "displayName": "Margaret Y. Paiva",
      "photoUrl": "",
      "userId": "06544974911748493519"
     },
     "user_tz": 240
    },
    "id": "iVBNX2WJT5Q7",
    "outputId": "01620417-c20e-454f-e85b-afc3695be04c",
    "scrolled": false
   },
   "outputs": [
    {
     "name": "stdout",
     "output_type": "stream",
     "text": [
      "human vs. mouse:\n",
      "1006.0\n",
      "human vs. rat:\n",
      "490.5\n",
      "human vs. chimp:\n",
      "325.5\n",
      "human vs. cow:\n",
      "312.5\n",
      "mouse vs. rat:\n",
      "474.5\n",
      "mouse vs. chimp:\n",
      "322.0\n",
      "mouse vs. cow:\n",
      "316.0\n",
      "rat vs. chimp:\n",
      "229.0\n",
      "rat vs. cow:\n",
      "226.5\n",
      "chimp vs. cow:\n",
      "922.0\n"
     ]
    }
   ],
   "source": [
    "# Perform pairwise alignment for all pairs of the 5 sequences\n",
    "aligner = Align.PairwiseAligner()\n",
    "aligner.mode = \"local\"\n",
    "aligner.open_gap_score = -10\n",
    "aligner.extend_gap_score = -0.5\n",
    "\n",
    "for i, a in enumerate(records):\n",
    "    for b in records[i+1:]:\n",
    "    \n",
    "        aligner.substitution_matrix = blosum62  # use blosum62 to set match and mismatch scores\n",
    "        alignments = aligner.align(a.seq, b.seq)\n",
    "\n",
    "        print(f\"{a.name} vs. {b.name}:\")\n",
    "        print(alignments.score)\n",
    "\n",
    "# the following can print out the aligned sequences    \n",
    "#     for aln in alignments:\n",
    "#         print(aln)\n",
    "#         print(f\"Alignment score: {aln.score}\")"
   ]
  },
  {
   "cell_type": "markdown",
   "metadata": {
    "colab_type": "text",
    "id": "J-y9eYS_UJ6l"
   },
   "source": [
    "Human and mouse have the highest homology in histone H1."
   ]
  },
  {
   "cell_type": "markdown",
   "metadata": {
    "colab_type": "text",
    "id": "u6jejmfj6yEi"
   },
   "source": [
    "## Dendrogram\n",
    "\n",
    "The scores we got actually represent the _similarities_ between the sequences, while the _distances_ is a reverse concept from similarities. "
   ]
  },
  {
   "cell_type": "code",
   "execution_count": 0,
   "metadata": {
    "colab": {
     "base_uri": "https://localhost:8080/",
     "height": 323
    },
    "colab_type": "code",
    "executionInfo": {
     "elapsed": 888,
     "status": "ok",
     "timestamp": 1570140852230,
     "user": {
      "displayName": "Margaret Y. Paiva",
      "photoUrl": "",
      "userId": "06544974911748493519"
     },
     "user_tz": 240
    },
    "id": "1eIas_L1URj_",
    "outputId": "73eaf9c4-ab04-4a6e-d221-f631ac82904a"
   },
   "outputs": [
    {
     "name": "stdout",
     "output_type": "stream",
     "text": [
      "Distance vector: \n",
      " [0.00099404 0.00203874 0.0030722  0.0032     0.00210748 0.00310559\n",
      " 0.00316456 0.00436681 0.00441501 0.0010846 ]\n"
     ]
    },
    {
     "data": {
      "image/png": "[encoded data removed]",
      "text/plain": [
       "<Figure size 432x288 with 1 Axes>"
      ]
     },
     "metadata": {
      "tags": []
     },
     "output_type": "display_data"
    }
   ],
   "source": [
    "%matplotlib inline\n",
    "\n",
    "# calculate the score matrix\n",
    "score_matrix = np.zeros((len(records), len(records)))\n",
    "for i, a in enumerate(records):\n",
    "  for j, b in enumerate(records[:i]):  \n",
    "    \n",
    "    aligner.substitution_matrix = blosum62  # use blosum62 to set match and mismatch scores\n",
    "    alignments = aligner.align(a.seq, b.seq)\n",
    "    \n",
    "    score_matrix[i, j] = alignments.score\n",
    "    \n",
    "# print(f\"score matrix \\n{score_matrix}\")\n",
    "score_matrix_trans = np.matrix.transpose(score_matrix)\n",
    "# print(f\"transpose of score_matrix \\n{score_matrix_trans}\")\n",
    "\n",
    "score_vector = []\n",
    "for i in range(score_matrix_trans.shape[0]):\n",
    "  for j in range(i+1, score_matrix_trans.shape[1]):\n",
    "    score_vector.append(score_matrix_trans[i, j])\n",
    "    \n",
    "score_vector = np.array(score_vector)\n",
    "\n",
    "dist_vector = 1/score_vector\n",
    "print(\"Distance vector: \\n\", dist_vector)\n",
    "\n",
    "# cluster = average(dist_vector)\n",
    "lk = linkage(dist_vector, method = 'average')\n",
    "# plt.figure()\n",
    "dn = dendrogram(lk, labels = list(histone_seqs.keys()))"
   ]
  }
 ],
 "metadata": {
  "colab": {
   "collapsed_sections": [],
   "name": "sub_HW1_Margaret.ipynb",
   "provenance": [],
   "toc_visible": true
  },
  "kernelspec": {
   "display_name": "Python 3",
   "language": "python",
   "name": "python3"
  },
  "language_info": {
   "codemirror_mode": {
    "name": "ipython",
    "version": 3
   },
   "file_extension": ".py",
   "mimetype": "text/x-python",
   "name": "python",
   "nbconvert_exporter": "python",
   "pygments_lexer": "ipython3",
   "version": "3.7.4"
  }
 },
 "nbformat": 4,
 "nbformat_minor": 1
}
